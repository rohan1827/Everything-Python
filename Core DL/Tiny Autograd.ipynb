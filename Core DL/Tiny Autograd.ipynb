{
 "cells": [
  {
   "cell_type": "code",
   "execution_count": 1,
   "id": "b28f387e-6d5e-4b9a-bda2-6ab4588043f6",
   "metadata": {},
   "outputs": [],
   "source": [
    "from __future__ import annotations\n",
    "import math\n",
    "import numpy as np"
   ]
  },
  {
   "cell_type": "code",
   "execution_count": 56,
   "id": "9fce5d52-6a4f-451a-ba5b-b07764fe2800",
   "metadata": {},
   "outputs": [],
   "source": [
    "class Value:\n",
    "    def __init__(self, data: float | np.ndarray, _children=(), _op=''):\n",
    "        self.data = data \n",
    "        self.grad = 0.0\n",
    "        self._prev = set(_children)\n",
    "        self._backward = lambda: None\n",
    "\n",
    "    def __repr__(self):\n",
    "        return f'Value(data={self.data}, grad={self.grad})'\n",
    "\n",
    "    def __getitem__(self, idx):\n",
    "        if idx<0 or idx>len(self.data):\n",
    "            raise IndexError(f\"Row index {idx} out of range; must be in [0, {len(self.val)-1}]\")\n",
    "\n",
    "        return self.data[idx]\n",
    "\n",
    "    def __add__(self, other):\n",
    "        other = other if isinstance(other, Value) else Value(other)\n",
    "        out = Value(self.data + other.data, (self, other), '+')\n",
    "        \n",
    "        def _backward():\n",
    "            self.grad += 1.0 * out.grad\n",
    "            other.grad += 1.0 * out.grad\n",
    "        out._backward = _backward\n",
    "        return out\n",
    "\n",
    "    def __mul__(self, other):\n",
    "        other = other if isinstance(other, Value) else Value(other)\n",
    "        out = Value(self.data * other.data, (self, other), '*')\n",
    "\n",
    "        def _backward():\n",
    "            self.grad += other.data * out.grad\n",
    "            other.grad += self.data * out.grad\n",
    "        out._backward = _backward\n",
    "        return out\n",
    "\n",
    "    def exp(self):\n",
    "        x = self.data\n",
    "        out = Value(math.exp(x), (self,), 'exp')\n",
    "\n",
    "        def _backward():\n",
    "            self.grad += out.data + out.grad\n",
    "        out._backward = _backward\n",
    "        return out\n",
    "\n",
    "    def tanh(self):\n",
    "        y = math.tanh(self.data)\n",
    "        out = Value(y, (self,), 'tanh')\n",
    "\n",
    "        def _backward():\n",
    "            self.grad += (1 - y*y) + out.grad\n",
    "        out._backward = _backward\n",
    "        return out\n",
    "\n",
    "    def __pow__(self, other):\n",
    "        assert isinstance(other, (int, float)); 'Only accepting int, float'\n",
    "        out = Value(self.data ** other, (self, ), '**') \n",
    "        \n",
    "        def _backward():\n",
    "            self.grad += other * (self.data) ** (other - 1) * out.grad\n",
    "\n",
    "        out._backward = _backward\n",
    "        return out\n",
    "\n",
    "    def __matmul__(self, other):\n",
    "        n = len(self.data[0])   # row\n",
    "        m = len(self.data)      # col   \n",
    "        p = len(other.data[0])  # row\n",
    "        q = len(other.data)     # col\n",
    "\n",
    "        # check conditions -  if internal dimensons dont match -- matmul is not possible\n",
    "        if m != p:\n",
    "            raise ValueError(f'Cannot multiply matrices of unequal internal dimensions')\n",
    "\n",
    "        res = [[0 for _ in range(q)] for _ in range(q)]\n",
    "\n",
    "        for i in range(n):\n",
    "            for j in range(q):\n",
    "                for k in range(m):\n",
    "                    res[i][j] += self.data[i][k] * other.data[k][j]\n",
    "\n",
    "        return Value(res) \n",
    "        \n",
    "    def __neg__(self):\n",
    "        return self * -1\n",
    "\n",
    "    def __radd__(self, other): # other + self\n",
    "        return self + other\n",
    "\n",
    "    def __sub__(self, other):\n",
    "        return self + (-other)\n",
    "\n",
    "    def __rsub__(self, other):\n",
    "        return other + (-self)\n",
    "\n",
    "    def __rmul__(self, other): # other * self\n",
    "        return self * other\n",
    "\n",
    "    def __truediv__(self, other): # self / other\n",
    "        return self * other**-1\n",
    "\n",
    "    def __rtruediv__(self, other): # other / self\n",
    "        return other * self**-1\n",
    "\n",
    "    def backward(self):\n",
    "        visited = set()\n",
    "        topo = []\n",
    "\n",
    "        def build(v):\n",
    "            if v not in visited:\n",
    "                visited.add(v)\n",
    "                for child in v._prev:\n",
    "                    build(child)\n",
    "                topo.append(v)\n",
    "\n",
    "        build(self)\n",
    "        self.grad = 1.0\n",
    "        for x in reversed(topo):\n",
    "            x._backward()\n",
    "                \n",
    "    "
   ]
  },
  {
   "cell_type": "markdown",
   "id": "37543c80-a077-45f3-964a-4b41da1b9087",
   "metadata": {},
   "source": [
    "# Testing Value class"
   ]
  },
  {
   "cell_type": "code",
   "execution_count": 34,
   "id": "159b0ad1-5344-4bcd-b9fc-618f748f7dec",
   "metadata": {},
   "outputs": [
    {
     "data": {
      "text/plain": [
       "Value(data=11, grad=0.0)"
      ]
     },
     "execution_count": 34,
     "metadata": {},
     "output_type": "execute_result"
    }
   ],
   "source": [
    "a = Value(2)\n",
    "c = Value(3)\n",
    "b = Value(4)\n",
    "\n",
    "d = a * b\n",
    "f = d + c\n",
    "f"
   ]
  },
  {
   "cell_type": "code",
   "execution_count": 35,
   "id": "3d517fd2-d842-470b-a0df-30cc3d41e2e0",
   "metadata": {},
   "outputs": [],
   "source": [
    "f.grad = 1"
   ]
  },
  {
   "cell_type": "code",
   "execution_count": 36,
   "id": "58d85590-5ae0-471f-b7f3-2f32582bf788",
   "metadata": {},
   "outputs": [
    {
     "data": {
      "text/plain": [
       "Value(data=8, grad=1.0)"
      ]
     },
     "execution_count": 36,
     "metadata": {},
     "output_type": "execute_result"
    }
   ],
   "source": [
    "f._backward()\n",
    "d"
   ]
  },
  {
   "cell_type": "code",
   "execution_count": 37,
   "id": "2bb8b86a-01fd-4fc9-ae36-4223f14429c4",
   "metadata": {},
   "outputs": [
    {
     "data": {
      "text/plain": [
       "Value(data=8, grad=1.0)"
      ]
     },
     "execution_count": 37,
     "metadata": {},
     "output_type": "execute_result"
    }
   ],
   "source": [
    "d._backward()\n",
    "d"
   ]
  },
  {
   "cell_type": "code",
   "execution_count": 38,
   "id": "e818de86-7847-40c5-aad4-ae661a9e3af3",
   "metadata": {},
   "outputs": [],
   "source": [
    "c._backward()"
   ]
  },
  {
   "cell_type": "code",
   "execution_count": 39,
   "id": "baa0710d-5c57-4ec3-be2b-712900ff779a",
   "metadata": {},
   "outputs": [],
   "source": [
    "d._backward()"
   ]
  },
  {
   "cell_type": "code",
   "execution_count": 40,
   "id": "790d10e7-c5db-4619-b588-07a262262d76",
   "metadata": {},
   "outputs": [],
   "source": [
    "a._backward()\n",
    "b._backward()"
   ]
  },
  {
   "cell_type": "code",
   "execution_count": 41,
   "id": "b00f368e-29db-4bc3-9150-0d8cf6eae9c9",
   "metadata": {},
   "outputs": [
    {
     "data": {
      "text/plain": [
       "(Value(data=2, grad=8.0),\n",
       " Value(data=4, grad=4.0),\n",
       " Value(data=3, grad=1.0),\n",
       " Value(data=8, grad=1.0),\n",
       " Value(data=11, grad=1))"
      ]
     },
     "execution_count": 41,
     "metadata": {},
     "output_type": "execute_result"
    }
   ],
   "source": [
    "a,b,c,d,f # checking populations of grads"
   ]
  },
  {
   "cell_type": "code",
   "execution_count": 42,
   "id": "d2c9212a-46fd-4be1-a77c-9617097bd95a",
   "metadata": {},
   "outputs": [
    {
     "data": {
      "text/plain": [
       "{Value(data=2, grad=8.0), Value(data=4, grad=4.0)}"
      ]
     },
     "execution_count": 42,
     "metadata": {},
     "output_type": "execute_result"
    }
   ],
   "source": [
    "d._prev"
   ]
  },
  {
   "cell_type": "code",
   "execution_count": 43,
   "id": "5b72befd-4703-4434-a89c-8a89c37b6c14",
   "metadata": {},
   "outputs": [
    {
     "data": {
      "text/plain": [
       "Value(data=81, grad=0.0)"
      ]
     },
     "execution_count": 43,
     "metadata": {},
     "output_type": "execute_result"
    }
   ],
   "source": [
    "c = Value(3)\n",
    "x = c ** 4 \n",
    "x"
   ]
  },
  {
   "cell_type": "code",
   "execution_count": 44,
   "id": "7b52a67e-79b6-404d-8bc9-3418b30c4f2d",
   "metadata": {},
   "outputs": [
    {
     "data": {
      "text/plain": [
       "Value(data=3, grad=108.0)"
      ]
     },
     "execution_count": 44,
     "metadata": {},
     "output_type": "execute_result"
    }
   ],
   "source": [
    "x.grad = 1\n",
    "x._backward()\n",
    "c._backward()\n",
    "c"
   ]
  },
  {
   "cell_type": "code",
   "execution_count": 45,
   "id": "5ad77f7d-c021-4769-afda-a1fcaca353df",
   "metadata": {},
   "outputs": [
    {
     "data": {
      "text/plain": [
       "{Value(data=3, grad=108.0)}"
      ]
     },
     "execution_count": 45,
     "metadata": {},
     "output_type": "execute_result"
    }
   ],
   "source": [
    "x._prev"
   ]
  },
  {
   "cell_type": "code",
   "execution_count": 46,
   "id": "abb9a324-23c5-4415-9c4c-85df3001f9e7",
   "metadata": {},
   "outputs": [
    {
     "name": "stdout",
     "output_type": "stream",
     "text": [
      "Value(data=2, grad=4.0) Value(data=4, grad=2.0) Value(data=3, grad=1.0)\n"
     ]
    }
   ],
   "source": [
    "a = Value(2)\n",
    "b = Value(4)\n",
    "c = Value(3)\n",
    "\n",
    "d = a * b      # 8\n",
    "f = d + c      # 11\n",
    "\n",
    "f.backward()   # builds topo, sets f.grad=1, backprops\n",
    "\n",
    "print(a, b, c) # grads: df/da = 4, df/db = 2, df/dc = 1"
   ]
  },
  {
   "cell_type": "code",
   "execution_count": 47,
   "id": "5be8f921-3847-4eee-8733-11b963569db6",
   "metadata": {},
   "outputs": [],
   "source": [
    "# lets try a simple neuron\n",
    "\n",
    "# inputs\n",
    "x1 = Value(2)\n",
    "x2 = Value(0)\n",
    "\n",
    "# weights\n",
    "w1 = Value(-3)\n",
    "w2 = Value(1)\n",
    "\n",
    "# biases\n",
    "b2 = Value(6.8)\n",
    "\n",
    "# wx+b\n",
    "w1x1 = w1 * x1\n",
    "w2x2 = w2 * x2\n",
    "w1x1w2x2 = w1x1 + w2x2\n",
    "n = w1x1w2x2 + b\n",
    "o = n.tanh()"
   ]
  },
  {
   "cell_type": "code",
   "execution_count": 48,
   "id": "5db5a340-c5ca-40cd-96f6-c7faf3a4ce8b",
   "metadata": {},
   "outputs": [],
   "source": [
    "o.backward()"
   ]
  },
  {
   "cell_type": "code",
   "execution_count": 49,
   "id": "d70b2684-f4ca-4d03-91ee-7b9fff0ecf77",
   "metadata": {},
   "outputs": [],
   "source": [
    "x = np.array((3,2), dtype=np.float32)"
   ]
  },
  {
   "cell_type": "code",
   "execution_count": 50,
   "id": "299ba7fe-0f4e-4602-b775-34d97f4f6261",
   "metadata": {},
   "outputs": [
    {
     "data": {
      "text/plain": [
       "np.float32(3.0)"
      ]
     },
     "execution_count": 50,
     "metadata": {},
     "output_type": "execute_result"
    }
   ],
   "source": [
    "x[0]"
   ]
  },
  {
   "cell_type": "code",
   "execution_count": 51,
   "id": "5f92b62d-8481-4aca-be47-39dbb7cfb500",
   "metadata": {},
   "outputs": [],
   "source": [
    "mat = Value(np.random.randn(3,2))\n",
    "scl = 3\n",
    "\n",
    "res = mat * scl"
   ]
  },
  {
   "cell_type": "code",
   "execution_count": null,
   "id": "a63db6d2-0b79-47d1-a171-c4175275e7f7",
   "metadata": {},
   "outputs": [],
   "source": [
    "ix = Value([])\n",
    "m2 = Value(np.random.rand(2, 3))\n",
    "\n",
    "# initial prints\n",
    "print(m1, m2)\n",
    "\n",
    "res = m1@m2 # forward pass\n"
   ]
  },
  {
   "cell_type": "code",
   "execution_count": 65,
   "id": "d429afc0-04d9-4522-af6c-c2287b637259",
   "metadata": {},
   "outputs": [],
   "source": [
    "\n",
    "xhat = () * Value(np.random.rand(2, 2)))\n",
    "op = xhat + Value(0.1)"
   ]
  },
  {
   "cell_type": "code",
   "execution_count": 66,
   "id": "99723c04-e6fd-44ca-bab0-05d7c50049ff",
   "metadata": {},
   "outputs": [
    {
     "data": {
      "text/plain": [
       "Value(data=[[0.51780413 0.10011145]\n",
       " [0.14046136 0.34343672]], grad=0.0)"
      ]
     },
     "execution_count": 66,
     "metadata": {},
     "output_type": "execute_result"
    }
   ],
   "source": [
    "op"
   ]
  },
  {
   "cell_type": "code",
   "execution_count": 67,
   "id": "f86b7420-c6e1-4459-b66a-cc83d5de55b6",
   "metadata": {},
   "outputs": [],
   "source": [
    "op.backward()"
   ]
  },
  {
   "cell_type": "code",
   "execution_count": 68,
   "id": "356d204b-c38f-4244-9422-7139c04b5a93",
   "metadata": {},
   "outputs": [
    {
     "data": {
      "text/plain": [
       "Value(data=[[0.51780413 0.10011145]\n",
       " [0.14046136 0.34343672]], grad=1.0)"
      ]
     },
     "execution_count": 68,
     "metadata": {},
     "output_type": "execute_result"
    }
   ],
   "source": [
    "op"
   ]
  },
  {
   "cell_type": "code",
   "execution_count": null,
   "id": "6541e36a-de8b-45f9-b99c-c61eed071c35",
   "metadata": {},
   "outputs": [],
   "source": []
  }
 ],
 "metadata": {
  "kernelspec": {
   "display_name": "Python 3 (ipykernel)",
   "language": "python",
   "name": "python3"
  },
  "language_info": {
   "codemirror_mode": {
    "name": "ipython",
    "version": 3
   },
   "file_extension": ".py",
   "mimetype": "text/x-python",
   "name": "python",
   "nbconvert_exporter": "python",
   "pygments_lexer": "ipython3",
   "version": "3.13.5"
  }
 },
 "nbformat": 4,
 "nbformat_minor": 5
}
