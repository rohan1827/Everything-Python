{
 "cells": [
  {
   "cell_type": "code",
   "execution_count": 90,
   "id": "9fce5d52-6a4f-451a-ba5b-b07764fe2800",
   "metadata": {},
   "outputs": [],
   "source": [
    "class Value:\n",
    "    def __init__(self, data: float, _children=(), _op=''):\n",
    "        self.data = float(data)\n",
    "        self.grad = float(0)\n",
    "        self._prev = set(_children)\n",
    "        self._backward = lambda: None\n",
    "\n",
    "    def __repr__(self):\n",
    "        return f'Value(data={self.data}, grad={self.grad})'\n",
    "\n",
    "    def __add__(self, other):\n",
    "        other = other if isinstance(other, Value) else Value(other)\n",
    "        out = Value(self.data + other.data, (self, other), '+')\n",
    "        \n",
    "        def _backward():\n",
    "            self.grad += 1.0 * out.grad\n",
    "            other.grad += 1.0 * out.grad\n",
    "        out._backward = _backward\n",
    "        return out\n",
    "\n",
    "    def __mul__(self, other):\n",
    "        other = other if isinstance(other, Value) else Value(other)\n",
    "        out = Value(self.data * other.data, (self, other), '*')\n",
    "\n",
    "        def _backward():\n",
    "            self.grad += other.data * out.grad\n",
    "            other.grad += self.data * out.grad\n",
    "        out._backward = _backward\n",
    "        return out\n",
    "\n",
    "    def __pow__(self, other):\n",
    "        assert isinstance(other, (int, float)); 'Only accepting int, float'\n",
    "        out = Value(self.data ** other, (self, ), '**') \n",
    "        \n",
    "        def _backward():\n",
    "            self.grad += other * (self.data) ** (other - 1) * out.grad\n",
    "\n",
    "        out._backward = _backward\n",
    "        return out\n",
    "\n",
    "    def __neg__(self):\n",
    "        return self * -1\n",
    "\n",
    "    def __radd__(self, other): # other + self\n",
    "        return self + other\n",
    "\n",
    "    def __sub__(self, other):\n",
    "        return self + (-other)\n",
    "\n",
    "    def __rsub__(self, other):\n",
    "        return other + (-self)\n",
    "\n",
    "    def __rmul__(self, other): # other * self\n",
    "        return self * other\n",
    "\n",
    "    def __truediv__(self, other): # self / other\n",
    "        return self * other**-1\n",
    "\n",
    "    def __rtruediv__(self, other): # other / self\n",
    "        return other * self**-1\n",
    "                \n",
    "    "
   ]
  },
  {
   "cell_type": "code",
   "execution_count": 91,
   "id": "159b0ad1-5344-4bcd-b9fc-618f748f7dec",
   "metadata": {},
   "outputs": [
    {
     "data": {
      "text/plain": [
       "Value(data=11.0, grad=0.0)"
      ]
     },
     "execution_count": 91,
     "metadata": {},
     "output_type": "execute_result"
    }
   ],
   "source": [
    "a = Value(2)\n",
    "c = Value(3)\n",
    "b = Value(4)\n",
    "\n",
    "d = a * b\n",
    "f = d + c\n",
    "f"
   ]
  },
  {
   "cell_type": "code",
   "execution_count": 92,
   "id": "3d517fd2-d842-470b-a0df-30cc3d41e2e0",
   "metadata": {},
   "outputs": [],
   "source": [
    "f.grad = 1"
   ]
  },
  {
   "cell_type": "code",
   "execution_count": 93,
   "id": "58d85590-5ae0-471f-b7f3-2f32582bf788",
   "metadata": {},
   "outputs": [
    {
     "data": {
      "text/plain": [
       "Value(data=8.0, grad=1.0)"
      ]
     },
     "execution_count": 93,
     "metadata": {},
     "output_type": "execute_result"
    }
   ],
   "source": [
    "f._backward()\n",
    "d"
   ]
  },
  {
   "cell_type": "code",
   "execution_count": 94,
   "id": "2bb8b86a-01fd-4fc9-ae36-4223f14429c4",
   "metadata": {},
   "outputs": [
    {
     "data": {
      "text/plain": [
       "Value(data=8.0, grad=1.0)"
      ]
     },
     "execution_count": 94,
     "metadata": {},
     "output_type": "execute_result"
    }
   ],
   "source": [
    "d._backward()\n",
    "d"
   ]
  },
  {
   "cell_type": "code",
   "execution_count": 95,
   "id": "e818de86-7847-40c5-aad4-ae661a9e3af3",
   "metadata": {},
   "outputs": [],
   "source": [
    "c._backward()"
   ]
  },
  {
   "cell_type": "code",
   "execution_count": 96,
   "id": "baa0710d-5c57-4ec3-be2b-712900ff779a",
   "metadata": {},
   "outputs": [],
   "source": [
    "d._backward()"
   ]
  },
  {
   "cell_type": "code",
   "execution_count": 97,
   "id": "790d10e7-c5db-4619-b588-07a262262d76",
   "metadata": {},
   "outputs": [],
   "source": [
    "a._backward()\n",
    "b._backward()"
   ]
  },
  {
   "cell_type": "code",
   "execution_count": 99,
   "id": "b00f368e-29db-4bc3-9150-0d8cf6eae9c9",
   "metadata": {},
   "outputs": [
    {
     "data": {
      "text/plain": [
       "(Value(data=2.0, grad=8.0),\n",
       " Value(data=4.0, grad=4.0),\n",
       " Value(data=3.0, grad=1.0),\n",
       " Value(data=8.0, grad=1.0),\n",
       " Value(data=11.0, grad=1))"
      ]
     },
     "execution_count": 99,
     "metadata": {},
     "output_type": "execute_result"
    }
   ],
   "source": [
    "a,b,c,d,f # checking populations of grads"
   ]
  },
  {
   "cell_type": "code",
   "execution_count": 100,
   "id": "30cbd24a-1b9e-4b5a-b150-706ab10305b2",
   "metadata": {},
   "outputs": [
    {
     "data": {
      "text/plain": [
       "Value(data=15.0, grad=0.0)"
      ]
     },
     "execution_count": 100,
     "metadata": {},
     "output_type": "execute_result"
    }
   ],
   "source": [
    "d = Value(4)\n",
    "c * d + c"
   ]
  },
  {
   "cell_type": "code",
   "execution_count": 104,
   "id": "5b72befd-4703-4434-a89c-8a89c37b6c14",
   "metadata": {},
   "outputs": [
    {
     "data": {
      "text/plain": [
       "Value(data=81.0, grad=0.0)"
      ]
     },
     "execution_count": 104,
     "metadata": {},
     "output_type": "execute_result"
    }
   ],
   "source": [
    "c = Value(3)\n",
    "x = c ** 4 \n",
    "x"
   ]
  },
  {
   "cell_type": "code",
   "execution_count": 105,
   "id": "7b52a67e-79b6-404d-8bc9-3418b30c4f2d",
   "metadata": {},
   "outputs": [
    {
     "data": {
      "text/plain": [
       "Value(data=3.0, grad=108.0)"
      ]
     },
     "execution_count": 105,
     "metadata": {},
     "output_type": "execute_result"
    }
   ],
   "source": [
    "x.grad = 1\n",
    "x._backward()\n",
    "c._backward()\n",
    "c"
   ]
  }
 ],
 "metadata": {
  "kernelspec": {
   "display_name": "Python 3 (ipykernel)",
   "language": "python",
   "name": "python3"
  },
  "language_info": {
   "codemirror_mode": {
    "name": "ipython",
    "version": 3
   },
   "file_extension": ".py",
   "mimetype": "text/x-python",
   "name": "python",
   "nbconvert_exporter": "python",
   "pygments_lexer": "ipython3",
   "version": "3.13.5"
  }
 },
 "nbformat": 4,
 "nbformat_minor": 5
}
