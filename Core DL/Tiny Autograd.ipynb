{
 "cells": [
  {
   "cell_type": "code",
   "execution_count": 1,
   "id": "b28f387e-6d5e-4b9a-bda2-6ab4588043f6",
   "metadata": {},
   "outputs": [],
   "source": [
    "from __future__ import annotations\n",
    "import math\n",
    "import numpy as np"
   ]
  },
  {
   "cell_type": "code",
   "execution_count": 17,
   "id": "9fce5d52-6a4f-451a-ba5b-b07764fe2800",
   "metadata": {},
   "outputs": [],
   "source": [
    "class Value:\n",
    "    def __init__(self, data: float | np.ndarray, _children=(), _op=''):\n",
    "        self.data = data \n",
    "        self.grad = 0.0\n",
    "        self._prev = set(_children)\n",
    "        self._backward = lambda: None\n",
    "\n",
    "    def __repr__(self):\n",
    "        return f'Value(data={self.data}, grad={self.grad})'\n",
    "\n",
    "    def __getitem__(self, idx):\n",
    "        if idx<0 or idx>len(self.data):\n",
    "            raise IndexError(f\"Row index {idx} out of range; must be in [0, {len(self.val)-1}]\")\n",
    "\n",
    "        return self.data[idx]\n",
    "\n",
    "    def __add__(self, other):\n",
    "        other = other if isinstance(other, Value) else Value(other)\n",
    "        out = Value(self.data + other.data, (self, other), '+')\n",
    "        \n",
    "        def _backward():\n",
    "            self.grad += 1.0 * out.grad\n",
    "            other.grad += 1.0 * out.grad\n",
    "        out._backward = _backward\n",
    "        return out\n",
    "\n",
    "    def __mul__(self, other):\n",
    "        other = other if isinstance(other, Value) else Value(other)\n",
    "        out = Value(self.data * other.data, (self, other), '*')\n",
    "\n",
    "        def _backward():\n",
    "            self.grad += other.data * out.grad\n",
    "            other.grad += self.data * out.grad\n",
    "        out._backward = _backward\n",
    "        return out\n",
    "\n",
    "    def exp(self):\n",
    "        x = self.data\n",
    "        out = Value(math.exp(x), (self,), 'exp')\n",
    "\n",
    "        def _backward():\n",
    "            self.grad += out.data * out.grad\n",
    "        out._backward = _backward\n",
    "        return out\n",
    "\n",
    "    def tanh(self):\n",
    "        y = math.tanh(self.data)\n",
    "        out = Value(y, (self,), 'tanh')\n",
    "\n",
    "        def _backward():\n",
    "            self.grad += (1 - y*y) * out.grad\n",
    "        out._backward = _backward\n",
    "        return out\n",
    "\n",
    "    def __pow__(self, other):\n",
    "        assert isinstance(other, (int, float)); 'Only accepting int, float'\n",
    "        out = Value(self.data ** other, (self, ), '**') \n",
    "        \n",
    "        def _backward():\n",
    "            self.grad += other * (self.data) ** (other - 1) * out.grad\n",
    "\n",
    "        out._backward = _backward\n",
    "        return out\n",
    "\n",
    "    def __matmul__(self, other):\n",
    "        other = other if isinstance(other, Value) else Value(other)\n",
    "    \n",
    "        A = self.data      # assume list of lists or 2D array\n",
    "        B = other.data\n",
    "    \n",
    "        # infer shapes\n",
    "        n_rows_A = len(A)\n",
    "        n_cols_A = len(A[0])\n",
    "        n_rows_B = len(B)\n",
    "        n_cols_B = len(B[0])\n",
    "    \n",
    "        if n_cols_A != n_rows_B:\n",
    "            raise ValueError(\n",
    "                f\"matmul shape mismatch: {n_rows_A}x{n_cols_A} @ {n_rows_B}x{n_cols_B}\"\n",
    "            )\n",
    "        \n",
    "        # allocate result (n_rows_A x n_cols_B)\n",
    "        res = [[0.0 for _ in range(n_cols_B)] for _ in range(n_rows_A)]\n",
    "    \n",
    "        for i in range(n_rows_A):\n",
    "            for j in range(n_cols_B):\n",
    "                total = 0.0\n",
    "                for k in range(n_cols_A):\n",
    "                    total += A[i][k] * B[k][j]\n",
    "                res[i][j] = total\n",
    "    \n",
    "        out = Value(res, (self, other), '@')\n",
    "    \n",
    "        def _backward():\n",
    "            # dL/dA = dL/dOut @ B^T\n",
    "            # dL/dB = A^T @ dL/dOut\n",
    "            # but here out.grad will be matrix-shaped\n",
    "            raise NotImplementedError(\"backward for matmul not implemented yet\")\n",
    "    \n",
    "        out._backward = _backward\n",
    "        return out\n",
    "\n",
    "        \n",
    "    def __neg__(self):\n",
    "        return self * -1\n",
    "\n",
    "    def __radd__(self, other): # other + self\n",
    "        return self + other\n",
    "\n",
    "    def __sub__(self, other):\n",
    "        return self + (-other)\n",
    "\n",
    "    def __rsub__(self, other):\n",
    "        return other + (-self)\n",
    "\n",
    "    def __rmul__(self, other): # other * self\n",
    "        return self * other\n",
    "\n",
    "    def __truediv__(self, other): # self / other\n",
    "        return self * other**-1\n",
    "\n",
    "    def __rtruediv__(self, other): # other / self\n",
    "        return other * self**-1\n",
    "\n",
    "    def backward(self):\n",
    "        visited = set()\n",
    "        topo = []\n",
    "\n",
    "        def build(v):\n",
    "            if v not in visited:\n",
    "                visited.add(v)\n",
    "                for child in v._prev:\n",
    "                    build(child)\n",
    "                topo.append(v)\n",
    "\n",
    "        build(self)\n",
    "        self.grad = 1.0\n",
    "        for x in reversed(topo):\n",
    "            x._backward()\n",
    "                \n",
    "    "
   ]
  },
  {
   "cell_type": "markdown",
   "id": "37543c80-a077-45f3-964a-4b41da1b9087",
   "metadata": {},
   "source": [
    "# Testing Value class"
   ]
  },
  {
   "cell_type": "code",
   "execution_count": 18,
   "id": "159b0ad1-5344-4bcd-b9fc-618f748f7dec",
   "metadata": {},
   "outputs": [
    {
     "data": {
      "text/plain": [
       "Value(data=11, grad=0.0)"
      ]
     },
     "execution_count": 18,
     "metadata": {},
     "output_type": "execute_result"
    }
   ],
   "source": [
    "a = Value(2)\n",
    "c = Value(3)\n",
    "b = Value(4)\n",
    "\n",
    "d = a * b\n",
    "f = d + c\n",
    "f"
   ]
  },
  {
   "cell_type": "code",
   "execution_count": 19,
   "id": "3d517fd2-d842-470b-a0df-30cc3d41e2e0",
   "metadata": {},
   "outputs": [],
   "source": [
    "f.grad = 1"
   ]
  },
  {
   "cell_type": "code",
   "execution_count": 20,
   "id": "58d85590-5ae0-471f-b7f3-2f32582bf788",
   "metadata": {},
   "outputs": [
    {
     "data": {
      "text/plain": [
       "Value(data=8, grad=1.0)"
      ]
     },
     "execution_count": 20,
     "metadata": {},
     "output_type": "execute_result"
    }
   ],
   "source": [
    "f._backward()\n",
    "d"
   ]
  },
  {
   "cell_type": "code",
   "execution_count": 21,
   "id": "2bb8b86a-01fd-4fc9-ae36-4223f14429c4",
   "metadata": {},
   "outputs": [
    {
     "data": {
      "text/plain": [
       "Value(data=8, grad=1.0)"
      ]
     },
     "execution_count": 21,
     "metadata": {},
     "output_type": "execute_result"
    }
   ],
   "source": [
    "d._backward()\n",
    "d"
   ]
  },
  {
   "cell_type": "code",
   "execution_count": 22,
   "id": "e818de86-7847-40c5-aad4-ae661a9e3af3",
   "metadata": {},
   "outputs": [],
   "source": [
    "c._backward()"
   ]
  },
  {
   "cell_type": "code",
   "execution_count": 23,
   "id": "baa0710d-5c57-4ec3-be2b-712900ff779a",
   "metadata": {},
   "outputs": [],
   "source": [
    "d._backward()"
   ]
  },
  {
   "cell_type": "code",
   "execution_count": 24,
   "id": "790d10e7-c5db-4619-b588-07a262262d76",
   "metadata": {},
   "outputs": [],
   "source": [
    "a._backward()\n",
    "b._backward()"
   ]
  },
  {
   "cell_type": "code",
   "execution_count": 25,
   "id": "b00f368e-29db-4bc3-9150-0d8cf6eae9c9",
   "metadata": {},
   "outputs": [
    {
     "data": {
      "text/plain": [
       "(Value(data=2, grad=8.0),\n",
       " Value(data=4, grad=4.0),\n",
       " Value(data=3, grad=1.0),\n",
       " Value(data=8, grad=1.0),\n",
       " Value(data=11, grad=1))"
      ]
     },
     "execution_count": 25,
     "metadata": {},
     "output_type": "execute_result"
    }
   ],
   "source": [
    "a,b,c,d,f # checking populations of grads"
   ]
  },
  {
   "cell_type": "code",
   "execution_count": 26,
   "id": "d2c9212a-46fd-4be1-a77c-9617097bd95a",
   "metadata": {},
   "outputs": [
    {
     "data": {
      "text/plain": [
       "{Value(data=2, grad=8.0), Value(data=4, grad=4.0)}"
      ]
     },
     "execution_count": 26,
     "metadata": {},
     "output_type": "execute_result"
    }
   ],
   "source": [
    "d._prev"
   ]
  },
  {
   "cell_type": "code",
   "execution_count": 27,
   "id": "5b72befd-4703-4434-a89c-8a89c37b6c14",
   "metadata": {},
   "outputs": [
    {
     "data": {
      "text/plain": [
       "Value(data=81, grad=0.0)"
      ]
     },
     "execution_count": 27,
     "metadata": {},
     "output_type": "execute_result"
    }
   ],
   "source": [
    "c = Value(3)\n",
    "x = c ** 4 \n",
    "x"
   ]
  },
  {
   "cell_type": "code",
   "execution_count": 28,
   "id": "7b52a67e-79b6-404d-8bc9-3418b30c4f2d",
   "metadata": {},
   "outputs": [
    {
     "data": {
      "text/plain": [
       "Value(data=3, grad=108.0)"
      ]
     },
     "execution_count": 28,
     "metadata": {},
     "output_type": "execute_result"
    }
   ],
   "source": [
    "x.grad = 1\n",
    "x._backward()\n",
    "c._backward()\n",
    "c"
   ]
  },
  {
   "cell_type": "code",
   "execution_count": 29,
   "id": "5ad77f7d-c021-4769-afda-a1fcaca353df",
   "metadata": {},
   "outputs": [
    {
     "data": {
      "text/plain": [
       "{Value(data=3, grad=108.0)}"
      ]
     },
     "execution_count": 29,
     "metadata": {},
     "output_type": "execute_result"
    }
   ],
   "source": [
    "x._prev"
   ]
  },
  {
   "cell_type": "code",
   "execution_count": 30,
   "id": "abb9a324-23c5-4415-9c4c-85df3001f9e7",
   "metadata": {},
   "outputs": [
    {
     "name": "stdout",
     "output_type": "stream",
     "text": [
      "Value(data=2, grad=4.0) Value(data=4, grad=2.0) Value(data=3, grad=1.0)\n"
     ]
    }
   ],
   "source": [
    "a = Value(2)\n",
    "b = Value(4)\n",
    "c = Value(3)\n",
    "\n",
    "d = a * b      # 8\n",
    "f = d + c      # 11\n",
    "\n",
    "f.backward()   # builds topo, sets f.grad=1, backprops\n",
    "\n",
    "print(a, b, c) # grads: df/da = 4, df/db = 2, df/dc = 1"
   ]
  },
  {
   "cell_type": "code",
   "execution_count": 31,
   "id": "0af83d6b-e72b-4692-9f90-23c6f950ede1",
   "metadata": {},
   "outputs": [
    {
     "data": {
      "text/plain": [
       "Value(data=[[22.0, 28.0], [49.0, 64.0]], grad=0.0)"
      ]
     },
     "execution_count": 31,
     "metadata": {},
     "output_type": "execute_result"
    }
   ],
   "source": [
    "mat1 = Value([[1, 2, 3], [4, 5, 6]]) \n",
    "mat2 = Value([[1, 2], [3, 4], [5, 6]])\n",
    "\n",
    "mat1@mat2"
   ]
  },
  {
   "cell_type": "markdown",
   "id": "bcea8f9c-2326-4bfb-959e-5feaa97fe97d",
   "metadata": {},
   "source": [
    "# making sure scalar autograd works"
   ]
  },
  {
   "cell_type": "code",
   "execution_count": 42,
   "id": "a229f38d-7341-4d81-a5a8-88258dc6473a",
   "metadata": {},
   "outputs": [],
   "source": [
    "# analysing on f(x) = (a*b + c).tanh()\n",
    "\n",
    "a = Value(2.0)\n",
    "b = Value(3.0)\n",
    "c = Value(-7.0)\n",
    "\n",
    "f = (a * b + c).tanh()"
   ]
  },
  {
   "cell_type": "code",
   "execution_count": 43,
   "id": "c22d192f-84e2-42d8-b70f-7a9ad9f81a19",
   "metadata": {},
   "outputs": [],
   "source": [
    "f.backward()"
   ]
  },
  {
   "cell_type": "code",
   "execution_count": null,
   "id": "392fb52a-dfb8-4aa3-a473-c34c936495bb",
   "metadata": {},
   "outputs": [],
   "source": [
    "# training a tiny model on this \n",
    "\n",
    "# weights and bias\n",
    "W = Value(0.1)\n",
    "b = Value(0.4)\n",
    "\n",
    "# dataset "
   ]
  }
 ],
 "metadata": {
  "kernelspec": {
   "display_name": "nbenv (Notebook)",
   "language": "python",
   "name": "pytorch-nb"
  },
  "language_info": {
   "codemirror_mode": {
    "name": "ipython",
    "version": 3
   },
   "file_extension": ".py",
   "mimetype": "text/x-python",
   "name": "python",
   "nbconvert_exporter": "python",
   "pygments_lexer": "ipython3",
   "version": "3.13.5"
  }
 },
 "nbformat": 4,
 "nbformat_minor": 5
}
