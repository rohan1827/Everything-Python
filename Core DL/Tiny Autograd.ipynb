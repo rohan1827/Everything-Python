{
 "cells": [
  {
   "cell_type": "code",
   "execution_count": 30,
   "id": "b28f387e-6d5e-4b9a-bda2-6ab4588043f6",
   "metadata": {},
   "outputs": [
    {
     "name": "stderr",
     "output_type": "stream",
     "text": [
      "Matplotlib is building the font cache; this may take a moment.\n"
     ]
    }
   ],
   "source": [
    "from __future__ import annotations\n",
    "import math\n",
    "import numpy as np\n",
    "import matplotlib.pyplot as plt"
   ]
  },
  {
   "cell_type": "markdown",
   "id": "37543c80-a077-45f3-964a-4b41da1b9087",
   "metadata": {},
   "source": [
    "# Testing Value class"
   ]
  },
  {
   "cell_type": "code",
   "execution_count": 4,
   "id": "159b0ad1-5344-4bcd-b9fc-618f748f7dec",
   "metadata": {},
   "outputs": [
    {
     "data": {
      "text/plain": [
       "Value(data=11, grad=0.0)"
      ]
     },
     "execution_count": 4,
     "metadata": {},
     "output_type": "execute_result"
    }
   ],
   "source": [
    "a = Value(2)\n",
    "c = Value(3)\n",
    "b = Value(4)\n",
    "\n",
    "d = a * b\n",
    "f = d + c\n",
    "f"
   ]
  },
  {
   "cell_type": "code",
   "execution_count": 5,
   "id": "3d517fd2-d842-470b-a0df-30cc3d41e2e0",
   "metadata": {},
   "outputs": [],
   "source": [
    "f.grad = 1"
   ]
  },
  {
   "cell_type": "code",
   "execution_count": 6,
   "id": "58d85590-5ae0-471f-b7f3-2f32582bf788",
   "metadata": {},
   "outputs": [
    {
     "data": {
      "text/plain": [
       "Value(data=8, grad=1.0)"
      ]
     },
     "execution_count": 6,
     "metadata": {},
     "output_type": "execute_result"
    }
   ],
   "source": [
    "f._backward()\n",
    "d"
   ]
  },
  {
   "cell_type": "code",
   "execution_count": 7,
   "id": "2bb8b86a-01fd-4fc9-ae36-4223f14429c4",
   "metadata": {},
   "outputs": [
    {
     "data": {
      "text/plain": [
       "Value(data=8, grad=1.0)"
      ]
     },
     "execution_count": 7,
     "metadata": {},
     "output_type": "execute_result"
    }
   ],
   "source": [
    "d._backward()\n",
    "d"
   ]
  },
  {
   "cell_type": "code",
   "execution_count": 8,
   "id": "e818de86-7847-40c5-aad4-ae661a9e3af3",
   "metadata": {},
   "outputs": [],
   "source": [
    "c._backward()"
   ]
  },
  {
   "cell_type": "code",
   "execution_count": 9,
   "id": "baa0710d-5c57-4ec3-be2b-712900ff779a",
   "metadata": {},
   "outputs": [],
   "source": [
    "d._backward()"
   ]
  },
  {
   "cell_type": "code",
   "execution_count": 10,
   "id": "790d10e7-c5db-4619-b588-07a262262d76",
   "metadata": {},
   "outputs": [],
   "source": [
    "a._backward()\n",
    "b._backward()"
   ]
  },
  {
   "cell_type": "code",
   "execution_count": 11,
   "id": "b00f368e-29db-4bc3-9150-0d8cf6eae9c9",
   "metadata": {},
   "outputs": [
    {
     "data": {
      "text/plain": [
       "(Value(data=2, grad=8.0),\n",
       " Value(data=4, grad=4.0),\n",
       " Value(data=3, grad=1.0),\n",
       " Value(data=8, grad=1.0),\n",
       " Value(data=11, grad=1))"
      ]
     },
     "execution_count": 11,
     "metadata": {},
     "output_type": "execute_result"
    }
   ],
   "source": [
    "a,b,c,d,f # checking populations of grads"
   ]
  },
  {
   "cell_type": "code",
   "execution_count": 12,
   "id": "d2c9212a-46fd-4be1-a77c-9617097bd95a",
   "metadata": {},
   "outputs": [
    {
     "data": {
      "text/plain": [
       "{Value(data=2, grad=8.0), Value(data=4, grad=4.0)}"
      ]
     },
     "execution_count": 12,
     "metadata": {},
     "output_type": "execute_result"
    }
   ],
   "source": [
    "d._prev"
   ]
  },
  {
   "cell_type": "code",
   "execution_count": 13,
   "id": "5b72befd-4703-4434-a89c-8a89c37b6c14",
   "metadata": {},
   "outputs": [
    {
     "data": {
      "text/plain": [
       "Value(data=81, grad=0.0)"
      ]
     },
     "execution_count": 13,
     "metadata": {},
     "output_type": "execute_result"
    }
   ],
   "source": [
    "c = Value(3)\n",
    "x = c ** 4 \n",
    "x"
   ]
  },
  {
   "cell_type": "code",
   "execution_count": 14,
   "id": "7b52a67e-79b6-404d-8bc9-3418b30c4f2d",
   "metadata": {},
   "outputs": [
    {
     "data": {
      "text/plain": [
       "Value(data=3, grad=108.0)"
      ]
     },
     "execution_count": 14,
     "metadata": {},
     "output_type": "execute_result"
    }
   ],
   "source": [
    "x.grad = 1\n",
    "x._backward()\n",
    "c._backward()\n",
    "c"
   ]
  },
  {
   "cell_type": "code",
   "execution_count": 15,
   "id": "5ad77f7d-c021-4769-afda-a1fcaca353df",
   "metadata": {},
   "outputs": [
    {
     "data": {
      "text/plain": [
       "{Value(data=3, grad=108.0)}"
      ]
     },
     "execution_count": 15,
     "metadata": {},
     "output_type": "execute_result"
    }
   ],
   "source": [
    "x._prev"
   ]
  },
  {
   "cell_type": "code",
   "execution_count": 16,
   "id": "abb9a324-23c5-4415-9c4c-85df3001f9e7",
   "metadata": {},
   "outputs": [
    {
     "name": "stdout",
     "output_type": "stream",
     "text": [
      "Value(data=2, grad=4.0) Value(data=4, grad=2.0) Value(data=3, grad=1.0)\n"
     ]
    }
   ],
   "source": [
    "a = Value(2)\n",
    "b = Value(4)\n",
    "c = Value(3)\n",
    "\n",
    "d = a * b      # 8\n",
    "f = d + c      # 11\n",
    "\n",
    "f.backward()   # builds topo, sets f.grad=1, backprops\n",
    "\n",
    "print(a, b, c) # grads: df/da = 4, df/db = 2, df/dc = 1"
   ]
  },
  {
   "cell_type": "code",
   "execution_count": 17,
   "id": "0af83d6b-e72b-4692-9f90-23c6f950ede1",
   "metadata": {},
   "outputs": [
    {
     "data": {
      "text/plain": [
       "Value(data=[[22.0, 28.0], [49.0, 64.0]], grad=0.0)"
      ]
     },
     "execution_count": 17,
     "metadata": {},
     "output_type": "execute_result"
    }
   ],
   "source": [
    "mat1 = Value([[1, 2, 3], [4, 5, 6]]) \n",
    "mat2 = Value([[1, 2], [3, 4], [5, 6]])\n",
    "\n",
    "mat1@mat2"
   ]
  },
  {
   "cell_type": "markdown",
   "id": "bcea8f9c-2326-4bfb-959e-5feaa97fe97d",
   "metadata": {},
   "source": [
    "# making sure scalar autograd works"
   ]
  },
  {
   "cell_type": "code",
   "execution_count": 18,
   "id": "a229f38d-7341-4d81-a5a8-88258dc6473a",
   "metadata": {},
   "outputs": [],
   "source": [
    "# analysing on f(x) = (a*b + c).tanh()\n",
    "\n",
    "a = Value(2.0)\n",
    "b = Value(3.0)\n",
    "c = Value(-7.0)\n",
    "\n",
    "f = (a * b + c).tanh()"
   ]
  },
  {
   "cell_type": "code",
   "execution_count": 19,
   "id": "c22d192f-84e2-42d8-b70f-7a9ad9f81a19",
   "metadata": {},
   "outputs": [],
   "source": [
    "f.backward()"
   ]
  },
  {
   "cell_type": "code",
   "execution_count": 42,
   "id": "9b1818ac-26b7-4fc6-b2c3-8391b519e32d",
   "metadata": {},
   "outputs": [
    {
     "data": {
      "text/plain": [
       "((80,),\n",
       " (80,),\n",
       " array([1.  , 1.05, 1.1 , 1.15, 1.2 ]),\n",
       " array([8.9 , 9.06, 9.22, 9.38, 9.54]))"
      ]
     },
     "execution_count": 42,
     "metadata": {},
     "output_type": "execute_result"
    }
   ],
   "source": [
    "# creating dataset\n",
    "# linear regression \n",
    "\n",
    "m = 3.2\n",
    "b = 5.7\n",
    "\n",
    "x = np.arange(1.0, 5.0, 0.05)\n",
    "\n",
    "y = m * x + b\n",
    "\n",
    "x.shape, y.shape , x[:5], y[:5]"
   ]
  },
  {
   "cell_type": "code",
   "execution_count": 43,
   "id": "9ef0e281-e325-40b9-a82b-3e52c8a4f0cf",
   "metadata": {},
   "outputs": [
    {
     "name": "stderr",
     "output_type": "stream",
     "text": [
      "/var/folders/72/5nn2s8xs4q306c6lbyvj75vr0000gn/T/ipykernel_91335/2071282881.py:10: UserWarning: No artists with labels found to put in legend.  Note that artists whose label start with an underscore are ignored when legend() is called with no argument.\n",
      "  plt.legend()\n"
     ]
    },
    {
     "data": {
      "image/png": "[encoded data removed]",
      "text/plain": [
       "<Figure size 1000x600 with 1 Axes>"
      ]
     },
     "metadata": {},
     "output_type": "display_data"
    }
   ],
   "source": [
    "# visualizing the dataset\n",
    "\n",
    "def plot(data: tuple):\n",
    "    X, y = data[0], data[1]\n",
    "\n",
    "    # plot\n",
    "    plt.figure(figsize=(10, 6))\n",
    "    plt.plot(X, c='g')\n",
    "    plt.plot(y, c='r')\n",
    "    plt.legend()\n",
    "    plt.show()\n",
    "\n",
    "\n",
    "plot((x, y))"
   ]
  },
  {
   "cell_type": "code",
   "execution_count": 22,
   "id": "392fb52a-dfb8-4aa3-a473-c34c936495bb",
   "metadata": {},
   "outputs": [],
   "source": [
    "# training a tiny model on this \n",
    "\n",
    "# weights and bias\n",
    "W = Value(0.1)\n",
    "b = Value(0.4)\n",
    "\n"
   ]
  },
  {
   "cell_type": "code",
   "execution_count": null,
   "id": "f6ae7ee3-41d0-485d-85e0-185829619ec4",
   "metadata": {},
   "outputs": [],
   "source": []
  }
 ],
 "metadata": {
  "kernelspec": {
   "display_name": "nbenv (Notebook)",
   "language": "python",
   "name": "pytorch-nb"
  },
  "language_info": {
   "codemirror_mode": {
    "name": "ipython",
    "version": 3
   },
   "file_extension": ".py",
   "mimetype": "text/x-python",
   "name": "python",
   "nbconvert_exporter": "python",
   "pygments_lexer": "ipython3",
   "version": "3.13.5"
  }
 },
 "nbformat": 4,
 "nbformat_minor": 5
}
