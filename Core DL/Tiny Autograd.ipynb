{
 "cells": [
  {
   "cell_type": "code",
   "execution_count": 26,
   "id": "b28f387e-6d5e-4b9a-bda2-6ab4588043f6",
   "metadata": {},
   "outputs": [],
   "source": [
    "from __future__ import annotations\n",
    "import math\n",
    "import numpy as np"
   ]
  },
  {
   "cell_type": "code",
   "execution_count": 69,
   "id": "9fce5d52-6a4f-451a-ba5b-b07764fe2800",
   "metadata": {},
   "outputs": [],
   "source": [
    "class Value:\n",
    "    def __init__(self, data: float, _children=(), _op=''):\n",
    "        self.data = data\n",
    "        self.grad = 0.0\n",
    "        self._prev = set(_children)\n",
    "        self._backward = lambda: None\n",
    "\n",
    "    def __repr__(self):\n",
    "        return f'Value(data={self.data}, grad={self.grad})'\n",
    "\n",
    "    def __add__(self, other):\n",
    "        other = other if isinstance(other, Value) else Value(other)\n",
    "        out = Value(self.data + other.data, (self, other), '+')\n",
    "        \n",
    "        def _backward():\n",
    "            self.grad += 1.0 * out.grad\n",
    "            other.grad += 1.0 * out.grad\n",
    "        out._backward = _backward\n",
    "        return out\n",
    "\n",
    "    def __mul__(self, other):\n",
    "        other = other if isinstance(other, Value) else Value(other)\n",
    "        out = Value(self.data * other.data, (self, other), '*')\n",
    "\n",
    "        def _backward():\n",
    "            self.grad += other.data * out.grad\n",
    "            other.grad += self.data * out.grad\n",
    "        out._backward = _backward\n",
    "        return out\n",
    "\n",
    "    def exp(self):\n",
    "        x = self.data\n",
    "        out = Value(math.exp(x), (self,), 'exp')\n",
    "\n",
    "        def _backward():\n",
    "            self.grad += out.data + out.grad\n",
    "        out._backward = _backward\n",
    "        return out\n",
    "\n",
    "    def tanh(self):\n",
    "        y = math.tanh(self.data)\n",
    "        out = Value(y, (self,), 'tanh')\n",
    "\n",
    "        def _backward():\n",
    "            self.grad += (1 - y*y) + out.grad\n",
    "        out._backward = _backward\n",
    "        return out\n",
    "\n",
    "    def __pow__(self, other):\n",
    "        assert isinstance(other, (int, float)); 'Only accepting int, float'\n",
    "        out = Value(self.data ** other, (self, ), '**') \n",
    "        \n",
    "        def _backward():\n",
    "            self.grad += other * (self.data) ** (other - 1) * out.grad\n",
    "\n",
    "        out._backward = _backward\n",
    "        return out\n",
    "\n",
    "    def __neg__(self):\n",
    "        return self * -1\n",
    "\n",
    "    def __radd__(self, other): # other + self\n",
    "        return self + other\n",
    "\n",
    "    def __sub__(self, other):\n",
    "        return self + (-other)\n",
    "\n",
    "    def __rsub__(self, other):\n",
    "        return other + (-self)\n",
    "\n",
    "    def __rmul__(self, other): # other * self\n",
    "        return self * other\n",
    "\n",
    "    def __truediv__(self, other): # self / other\n",
    "        return self * other**-1\n",
    "\n",
    "    def __rtruediv__(self, other): # other / self\n",
    "        return other * self**-1\n",
    "\n",
    "    def backward(self):\n",
    "        visited = set()\n",
    "        topo = []\n",
    "\n",
    "        def build(v):\n",
    "            if v not in visited:\n",
    "                visited.add(v)\n",
    "                for child in v._prev:\n",
    "                    build(child)\n",
    "                topo.append(v)\n",
    "\n",
    "        build(self)\n",
    "        self.grad = 1.0\n",
    "        for x in reversed(topo):\n",
    "            x._backward()\n",
    "                \n",
    "    "
   ]
  },
  {
   "cell_type": "code",
   "execution_count": 54,
   "id": "159b0ad1-5344-4bcd-b9fc-618f748f7dec",
   "metadata": {},
   "outputs": [
    {
     "data": {
      "text/plain": [
       "Value(data=11, grad=0.0)"
      ]
     },
     "execution_count": 54,
     "metadata": {},
     "output_type": "execute_result"
    }
   ],
   "source": [
    "a = Value(2)\n",
    "c = Value(3)\n",
    "b = Value(4)\n",
    "\n",
    "d = a * b\n",
    "f = d + c\n",
    "f"
   ]
  },
  {
   "cell_type": "code",
   "execution_count": 55,
   "id": "3d517fd2-d842-470b-a0df-30cc3d41e2e0",
   "metadata": {},
   "outputs": [],
   "source": [
    "f.grad = 1"
   ]
  },
  {
   "cell_type": "code",
   "execution_count": 56,
   "id": "58d85590-5ae0-471f-b7f3-2f32582bf788",
   "metadata": {},
   "outputs": [
    {
     "data": {
      "text/plain": [
       "Value(data=8, grad=1.0)"
      ]
     },
     "execution_count": 56,
     "metadata": {},
     "output_type": "execute_result"
    }
   ],
   "source": [
    "f._backward()\n",
    "d"
   ]
  },
  {
   "cell_type": "code",
   "execution_count": 57,
   "id": "2bb8b86a-01fd-4fc9-ae36-4223f14429c4",
   "metadata": {},
   "outputs": [
    {
     "data": {
      "text/plain": [
       "Value(data=8, grad=1.0)"
      ]
     },
     "execution_count": 57,
     "metadata": {},
     "output_type": "execute_result"
    }
   ],
   "source": [
    "d._backward()\n",
    "d"
   ]
  },
  {
   "cell_type": "code",
   "execution_count": 58,
   "id": "e818de86-7847-40c5-aad4-ae661a9e3af3",
   "metadata": {},
   "outputs": [],
   "source": [
    "c._backward()"
   ]
  },
  {
   "cell_type": "code",
   "execution_count": 59,
   "id": "baa0710d-5c57-4ec3-be2b-712900ff779a",
   "metadata": {},
   "outputs": [],
   "source": [
    "d._backward()"
   ]
  },
  {
   "cell_type": "code",
   "execution_count": 60,
   "id": "790d10e7-c5db-4619-b588-07a262262d76",
   "metadata": {},
   "outputs": [],
   "source": [
    "a._backward()\n",
    "b._backward()"
   ]
  },
  {
   "cell_type": "code",
   "execution_count": 61,
   "id": "b00f368e-29db-4bc3-9150-0d8cf6eae9c9",
   "metadata": {},
   "outputs": [
    {
     "data": {
      "text/plain": [
       "(Value(data=2, grad=8.0),\n",
       " Value(data=4, grad=4.0),\n",
       " Value(data=3, grad=1.0),\n",
       " Value(data=8, grad=1.0),\n",
       " Value(data=11, grad=1))"
      ]
     },
     "execution_count": 61,
     "metadata": {},
     "output_type": "execute_result"
    }
   ],
   "source": [
    "a,b,c,d,f # checking populations of grads"
   ]
  },
  {
   "cell_type": "code",
   "execution_count": 62,
   "id": "d2c9212a-46fd-4be1-a77c-9617097bd95a",
   "metadata": {},
   "outputs": [
    {
     "data": {
      "text/plain": [
       "{Value(data=2, grad=8.0), Value(data=4, grad=4.0)}"
      ]
     },
     "execution_count": 62,
     "metadata": {},
     "output_type": "execute_result"
    }
   ],
   "source": [
    "d._prev"
   ]
  },
  {
   "cell_type": "code",
   "execution_count": 63,
   "id": "5b72befd-4703-4434-a89c-8a89c37b6c14",
   "metadata": {},
   "outputs": [
    {
     "data": {
      "text/plain": [
       "Value(data=81, grad=0.0)"
      ]
     },
     "execution_count": 63,
     "metadata": {},
     "output_type": "execute_result"
    }
   ],
   "source": [
    "c = Value(3)\n",
    "x = c ** 4 \n",
    "x"
   ]
  },
  {
   "cell_type": "code",
   "execution_count": 64,
   "id": "7b52a67e-79b6-404d-8bc9-3418b30c4f2d",
   "metadata": {},
   "outputs": [
    {
     "data": {
      "text/plain": [
       "Value(data=3, grad=108.0)"
      ]
     },
     "execution_count": 64,
     "metadata": {},
     "output_type": "execute_result"
    }
   ],
   "source": [
    "x.grad = 1\n",
    "x._backward()\n",
    "c._backward()\n",
    "c"
   ]
  },
  {
   "cell_type": "code",
   "execution_count": 65,
   "id": "5ad77f7d-c021-4769-afda-a1fcaca353df",
   "metadata": {},
   "outputs": [
    {
     "data": {
      "text/plain": [
       "{Value(data=3, grad=108.0)}"
      ]
     },
     "execution_count": 65,
     "metadata": {},
     "output_type": "execute_result"
    }
   ],
   "source": [
    "x._prev"
   ]
  },
  {
   "cell_type": "code",
   "execution_count": 66,
   "id": "a38dfbdd-71e4-4808-aced-7731582c1f7d",
   "metadata": {},
   "outputs": [
    {
     "data": {
      "text/plain": [
       "Value(data=20, grad=0.0)"
      ]
     },
     "execution_count": 66,
     "metadata": {},
     "output_type": "execute_result"
    }
   ],
   "source": [
    "a = Value(3)\n",
    "b = Value(4)\n",
    "c = Value(5)\n",
    "\n",
    "d = a * c\n",
    "e = d + 2\n",
    "\n",
    "f = d + c\n",
    "f"
   ]
  },
  {
   "cell_type": "code",
   "execution_count": 67,
   "id": "6b43d0f7-ab5c-4460-8584-2b8532a0ab2d",
   "metadata": {},
   "outputs": [],
   "source": [
    "f.backward()"
   ]
  },
  {
   "cell_type": "code",
   "execution_count": 70,
   "id": "5be8f921-3847-4eee-8733-11b963569db6",
   "metadata": {},
   "outputs": [
    {
     "ename": "TypeError",
     "evalue": "must be real number, not Value",
     "output_type": "error",
     "traceback": [
      "\u001b[0;31m---------------------------------------------------------------------------\u001b[0m",
      "\u001b[0;31mTypeError\u001b[0m                                 Traceback (most recent call last)",
      "Cell \u001b[0;32mIn[70], line 19\u001b[0m\n\u001b[1;32m     17\u001b[0m w1x1w2x2 \u001b[38;5;241m=\u001b[39m w1x1 \u001b[38;5;241m+\u001b[39m w2x2\n\u001b[1;32m     18\u001b[0m n \u001b[38;5;241m=\u001b[39m w1x1w2x2 \u001b[38;5;241m+\u001b[39m b\n\u001b[0;32m---> 19\u001b[0m o \u001b[38;5;241m=\u001b[39m n\u001b[38;5;241m.\u001b[39mtanh()\n",
      "Cell \u001b[0;32mIn[69], line 41\u001b[0m, in \u001b[0;36mValue.tanh\u001b[0;34m(self)\u001b[0m\n\u001b[1;32m     40\u001b[0m \u001b[38;5;28;01mdef\u001b[39;00m\u001b[38;5;250m \u001b[39m\u001b[38;5;21mtanh\u001b[39m(\u001b[38;5;28mself\u001b[39m):\n\u001b[0;32m---> 41\u001b[0m     y \u001b[38;5;241m=\u001b[39m math\u001b[38;5;241m.\u001b[39mtanh(\u001b[38;5;28mself\u001b[39m\u001b[38;5;241m.\u001b[39mdata)\n\u001b[1;32m     42\u001b[0m     out \u001b[38;5;241m=\u001b[39m Value(y, (\u001b[38;5;28mself\u001b[39m,), \u001b[38;5;124m'\u001b[39m\u001b[38;5;124mtanh\u001b[39m\u001b[38;5;124m'\u001b[39m)\n\u001b[1;32m     44\u001b[0m     \u001b[38;5;28;01mdef\u001b[39;00m\u001b[38;5;250m \u001b[39m\u001b[38;5;21m_backward\u001b[39m():\n",
      "\u001b[0;31mTypeError\u001b[0m: must be real number, not Value"
     ]
    }
   ],
   "source": [
    "# lets try a simple neuron\n",
    "\n",
    "# inputs\n",
    "x1 = Value(2)\n",
    "x2 = Value(0)\n",
    "\n",
    "# weights\n",
    "w1 = Value(-3)\n",
    "w2 = Value(1)\n",
    "\n",
    "# biases\n",
    "b2 = Value(6.8)\n",
    "\n",
    "# wx+b\n",
    "w1x1 = w1 * x1\n",
    "w2x2 = w2 * x2\n",
    "w1x1w2x2 = w1x1 + w2x2\n",
    "n = w1x1w2x2 + b\n",
    "o = n.tanh()"
   ]
  },
  {
   "cell_type": "code",
   "execution_count": 73,
   "id": "cd670bb2-c125-4b49-b7e5-6e3787416317",
   "metadata": {},
   "outputs": [
    {
     "data": {
      "text/plain": [
       "__main__.Value"
      ]
     },
     "execution_count": 73,
     "metadata": {},
     "output_type": "execute_result"
    }
   ],
   "source": [
    "# df/ df = 1\n",
    "# df / dd = d(d+c)/dd = "
   ]
  },
  {
   "cell_type": "code",
   "execution_count": null,
   "id": "af68063e-310d-4117-b72c-1d28c7929ce6",
   "metadata": {},
   "outputs": [],
   "source": []
  }
 ],
 "metadata": {
  "kernelspec": {
   "display_name": "Python 3 (ipykernel)",
   "language": "python",
   "name": "python3"
  },
  "language_info": {
   "codemirror_mode": {
    "name": "ipython",
    "version": 3
   },
   "file_extension": ".py",
   "mimetype": "text/x-python",
   "name": "python",
   "nbconvert_exporter": "python",
   "pygments_lexer": "ipython3",
   "version": "3.13.5"
  }
 },
 "nbformat": 4,
 "nbformat_minor": 5
}
