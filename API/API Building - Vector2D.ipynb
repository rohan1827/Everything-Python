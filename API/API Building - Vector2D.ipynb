{
 "cells": [
  {
   "cell_type": "code",
   "execution_count": 3,
   "metadata": {
    "_cell_guid": "b1076dfc-b9ad-4769-8c92-a6c4dae69d19",
    "_uuid": "8f2839f25d086af736a60e9eeb907d3b93b6e0e5",
    "execution": {
     "iopub.execute_input": "2025-08-14T07:48:28.289843Z",
     "iopub.status.busy": "2025-08-14T07:48:28.289422Z",
     "iopub.status.idle": "2025-08-14T07:48:28.308105Z",
     "shell.execute_reply": "2025-08-14T07:48:28.306972Z",
     "shell.execute_reply.started": "2025-08-14T07:48:28.289806Z"
    }
   },
   "outputs": [],
   "source": [
    "from __future__ import annotations  # to use any datatype in annotations (Vector2D in some functions below)\n",
    "from dataclasses import dataclass\n",
    "from math import hypot, sqrt, atan2, isclose\n",
    "from typing import Iterator, Tuple, Any\n",
    "import math\n",
    "\n",
    "@dataclass(frozen=True) # this sets class attributes to be immutable -- Learn more on Dataclass for API building\n",
    "class Vector2D:\n",
    "    '''This is a class API for Vector2D arthematic operations (and maybe others too) implementations\n",
    "    takes in 2 variables x,y and returns a Vector2D class instance of Vector2D(x, y)'''\n",
    "    \n",
    "    x: float\n",
    "    y: float\n",
    "\n",
    "    def __post_init__(self):\n",
    "        object.__setattr__(self, 'x', float(self.x))\n",
    "        object.__setattr__(self, 'y', float(self.y))\n",
    "\n",
    "    # ------------- Basic Protocol ------------------------\n",
    "    def __iter__(self) -> Iterator[float]:  # makes the object iterable, call it in a for loop if required.\n",
    "        yield self.x\n",
    "        yield self.y\n",
    "    \n",
    "    def __repr__(self) -> str:\n",
    "        return f'Vector2D(x={self.x}, y={self.y})'\n",
    "    \n",
    "    def __eq__(self, other: Any):  # to checn x == y?\n",
    "        if not isinstance(other, Vector2D): return NotImplemented\n",
    "        return self.x == other.x and self.y == other.y\n",
    "\n",
    "    # ------------- math helpers ------------------------\n",
    "    def dot(self, other: Vector2D) -> float:\n",
    "        if not isinstance(other, Vector2D): raise TypeError('Dot expects Vector2D input')\n",
    "        return float(self.x * other.x + self.y * other.y)\n",
    "    \n",
    "    def norm(self) -> float:\n",
    "        return hypot(self.x, self.y)\n",
    "\n",
    "    def cross(self, other):\n",
    "        if not isinstance(other, Vector2D): return NotImplemented\n",
    "        return float(self.x * other.y - self.y * other.x)\n",
    "\n",
    "    def angle_to(self, other: Vector2D) -> float:\n",
    "        if not isinstance(other, Vector2D): return NotImplemented\n",
    "        if self.norm() == 0.0 or other.norm() == 0.0: raise ValueError('Angle not defined under zero vectors')\n",
    "        return atan2(self.cross(other), self.dot(other))\n",
    "    \n",
    "    def distance_to(self, other: Vector2D) -> float:\n",
    "        if not isinstance(other, Vector2D): return NotImplemented\n",
    "        return (self - other).norm()\n",
    "\n",
    "    def normalized(self):\n",
    "        n = self.norm()\n",
    "        if n == 0: raise ValueError('cannot normalize by zero')\n",
    "        inv = 1 / n\n",
    "        return Vector2D(self.x * inv, self.y * inv)\n",
    "        \n",
    "    # ------------- math  ------------------------\n",
    "    \n",
    "    def __add__(self, other):\n",
    "        if not isinstance(other, Vector2D): return NotImplemented\n",
    "        return Vector2D(self.x + other.x, self.y + other.y)\n",
    "\n",
    "    def __sub__(self, other):\n",
    "        if not isinstance(other, Vector2D): return NotImplemented\n",
    "        return Vector2D(self.x + -other.x, self.y + -other.y)\n",
    "\n",
    "    def __mul__(self, k: (int, float)):  # cannot multiply 2 Vectors\n",
    "        if not isinstance(k, (int, float)): return NotImplemented\n",
    "        return Vector2D(self.x * k, self.y * k)\n",
    "\n",
    "    def __rmul__(self, k: float):\n",
    "        if not isinstance(k, (int, float)): return NotImplemented\n",
    "        return self.__mul__(k)\n",
    "    \n",
    "    def __matmul__(self, other):\n",
    "        if not isinstance(other, Vector2D): return NotImplemented\n",
    "        return self.dot(other)\n",
    "    \n",
    "    def __abs__(self):\n",
    "        return self.norm()\n",
    "\n",
    "    def rotate(self, theta: (int, float), degrees:bool = False) -> Vector2D:\n",
    "        if not isinstance(theta, (int, float)): return NotImplemented\n",
    "        if degrees:\n",
    "            theta = math.radians(theta)\n",
    "        \n",
    "        sin_t = math.sin(theta)\n",
    "        cos_t = math.cos(theta)\n",
    "        return Vector2D(\n",
    "            self.x * cos_t - self.y * sin_t,\n",
    "            self.x * sin_t + self.y * cos_t\n",
    "        )"
   ]
  },
  {
   "cell_type": "code",
   "execution_count": 4,
   "metadata": {
    "execution": {
     "iopub.execute_input": "2025-08-14T07:48:30.271969Z",
     "iopub.status.busy": "2025-08-14T07:48:30.271496Z",
     "iopub.status.idle": "2025-08-14T07:48:30.278779Z",
     "shell.execute_reply": "2025-08-14T07:48:30.277502Z",
     "shell.execute_reply.started": "2025-08-14T07:48:30.271937Z"
    }
   },
   "outputs": [
    {
     "name": "stdout",
     "output_type": "stream",
     "text": [
      "Vector2D(x=4.0, y=5.0) Vector2D(x=3.0, y=2.0)\n"
     ]
    }
   ],
   "source": [
    "x = Vector2D(4, 5)\n",
    "y = Vector2D(3, 2)\n",
    "print(x, y)"
   ]
  },
  {
   "cell_type": "code",
   "execution_count": 3,
   "metadata": {
    "execution": {
     "iopub.execute_input": "2025-08-12T15:58:58.289001Z",
     "iopub.status.busy": "2025-08-12T15:58:58.288687Z",
     "iopub.status.idle": "2025-08-12T15:58:58.304132Z",
     "shell.execute_reply": "2025-08-12T15:58:58.303155Z",
     "shell.execute_reply.started": "2025-08-12T15:58:58.288975Z"
    }
   },
   "outputs": [
    {
     "data": {
      "text/plain": [
       "Vector2D(x=8.0, y=10.0)"
      ]
     },
     "execution_count": 3,
     "metadata": {},
     "output_type": "execute_result"
    }
   ],
   "source": [
    "x * 2"
   ]
  },
  {
   "cell_type": "code",
   "execution_count": 4,
   "metadata": {
    "execution": {
     "iopub.execute_input": "2025-08-12T15:58:58.305874Z",
     "iopub.status.busy": "2025-08-12T15:58:58.305062Z",
     "iopub.status.idle": "2025-08-12T15:58:58.320480Z",
     "shell.execute_reply": "2025-08-12T15:58:58.319663Z",
     "shell.execute_reply.started": "2025-08-12T15:58:58.305843Z"
    }
   },
   "outputs": [
    {
     "data": {
      "text/plain": [
       "6.4031242374328485"
      ]
     },
     "execution_count": 4,
     "metadata": {},
     "output_type": "execute_result"
    }
   ],
   "source": [
    "abs(x)"
   ]
  },
  {
   "cell_type": "code",
   "execution_count": 5,
   "metadata": {
    "execution": {
     "iopub.execute_input": "2025-08-12T15:58:58.322697Z",
     "iopub.status.busy": "2025-08-12T15:58:58.322463Z",
     "iopub.status.idle": "2025-08-12T15:58:58.338352Z",
     "shell.execute_reply": "2025-08-12T15:58:58.337565Z",
     "shell.execute_reply.started": "2025-08-12T15:58:58.322678Z"
    }
   },
   "outputs": [
    {
     "data": {
      "text/plain": [
       "22.0"
      ]
     },
     "execution_count": 5,
     "metadata": {},
     "output_type": "execute_result"
    }
   ],
   "source": [
    "x @ y # dot product (x1)"
   ]
  },
  {
   "cell_type": "code",
   "execution_count": 6,
   "metadata": {
    "execution": {
     "iopub.execute_input": "2025-08-12T15:58:58.339371Z",
     "iopub.status.busy": "2025-08-12T15:58:58.339155Z",
     "iopub.status.idle": "2025-08-12T15:58:58.357629Z",
     "shell.execute_reply": "2025-08-12T15:58:58.356840Z",
     "shell.execute_reply.started": "2025-08-12T15:58:58.339352Z"
    }
   },
   "outputs": [
    {
     "name": "stdout",
     "output_type": "stream",
     "text": [
      "22.0\n",
      "-7.0\n",
      "-0.308053\n",
      "Vector2D(x=8.0, y=10.0)\n",
      "3.1623\n",
      "Vector2D(x=0.6246950475544243, y=0.7808688094430304)\n",
      "Vector2D(x=5.557163920014645, y=-3.1808692469335274)\n"
     ]
    }
   ],
   "source": [
    "# tiny test\n",
    "x = Vector2D(4, 5)\n",
    "y = Vector2D(3, 2)\n",
    "print(x.dot(y))           # 4*3 + 5*2 = 22\n",
    "print(x.cross(y))         # 4*2 - 5*3 = -7\n",
    "print(round(x.angle_to(y), 6))  # should be atan2(-7, 22) ≈ -0.307485\n",
    "print(2 * x)              # Vector2D(x=8.0, y=10.0)\n",
    "print(round(x.distance_to(y), 4))\n",
    "print(x.normalized())\n",
    "print(x.rotate(30))"
   ]
  },
  {
   "cell_type": "code",
   "execution_count": 7,
   "metadata": {
    "execution": {
     "iopub.execute_input": "2025-08-12T15:58:58.359041Z",
     "iopub.status.busy": "2025-08-12T15:58:58.358459Z",
     "iopub.status.idle": "2025-08-12T15:58:58.378612Z",
     "shell.execute_reply": "2025-08-12T15:58:58.377684Z",
     "shell.execute_reply.started": "2025-08-12T15:58:58.359013Z"
    }
   },
   "outputs": [
    {
     "name": "stdout",
     "output_type": "stream",
     "text": [
      "Vector2D(x=6.123233995736766e-17, y=1.0)\n"
     ]
    }
   ],
   "source": [
    "v = Vector2D(1, 0)\n",
    "print(v.rotate(math.pi / 2))  "
   ]
  },
  {
   "cell_type": "code",
   "execution_count": 8,
   "metadata": {
    "execution": {
     "iopub.execute_input": "2025-08-12T15:58:58.379802Z",
     "iopub.status.busy": "2025-08-12T15:58:58.379379Z",
     "iopub.status.idle": "2025-08-12T15:58:58.401994Z",
     "shell.execute_reply": "2025-08-12T15:58:58.400986Z",
     "shell.execute_reply.started": "2025-08-12T15:58:58.379749Z"
    }
   },
   "outputs": [],
   "source": [
    "a = Vector2D(3, 4)\n",
    "b = Vector2D(1, -2)\n",
    "\n",
    "assert a.norm() == 5.0\n",
    "assert a + b == Vector2D(4, 2)\n",
    "assert a - b == Vector2D(2, 6)\n",
    "assert a @ b == (3*1 + 4*(-2))\n",
    "assert abs(a) == 5.0\n",
    "assert (2*a) == Vector2D(6, 8) and (a*2) == Vector2D(6, 8)\n",
    "assert math.isclose(a.distance_to(b), (a - b).norm())\n",
    "\n",
    "# angle/rotate consistency (radians)\n",
    "theta = a.angle_to(b)  # radians\n",
    "ar = a.rotate(theta)   # if rotate expects radians\n",
    "# or: a.rotate(math.degrees(theta), degrees=True)\n"
   ]
  },
  {
   "cell_type": "code",
   "execution_count": 9,
   "metadata": {
    "execution": {
     "iopub.execute_input": "2025-08-12T15:58:58.403301Z",
     "iopub.status.busy": "2025-08-12T15:58:58.403019Z",
     "iopub.status.idle": "2025-08-12T15:58:58.418097Z",
     "shell.execute_reply": "2025-08-12T15:58:58.417251Z",
     "shell.execute_reply.started": "2025-08-12T15:58:58.403275Z"
    }
   },
   "outputs": [
    {
     "data": {
      "text/plain": [
       "(-2.0344439357957027, Vector2D(x=2.23606797749979, y=-4.47213595499958))"
      ]
     },
     "execution_count": 9,
     "metadata": {},
     "output_type": "execute_result"
    }
   ],
   "source": [
    "theta, ar"
   ]
  }
 ],
 "metadata": {
  "kaggle": {
   "accelerator": "none",
   "dataSources": [],
   "dockerImageVersionId": 31089,
   "isGpuEnabled": false,
   "isInternetEnabled": true,
   "language": "python",
   "sourceType": "notebook"
  },
  "kernelspec": {
   "display_name": "Python 3 (ipykernel)",
   "language": "python",
   "name": "python3"
  },
  "language_info": {
   "codemirror_mode": {
    "name": "ipython",
    "version": 3
   },
   "file_extension": ".py",
   "mimetype": "text/x-python",
   "name": "python",
   "nbconvert_exporter": "python",
   "pygments_lexer": "ipython3",
   "version": "3.13.5"
  }
 },
 "nbformat": 4,
 "nbformat_minor": 4
}
