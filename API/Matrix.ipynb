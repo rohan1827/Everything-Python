{
 "cells": [
  {
   "cell_type": "code",
   "execution_count": 1,
   "id": "666f4170-b0fa-4c32-9823-0360503bd72a",
   "metadata": {},
   "outputs": [],
   "source": [
    "# This script implements the matrix class and its arthematic operations."
   ]
  },
  {
   "cell_type": "code",
   "execution_count": 113,
   "id": "3eded053-f497-4909-aef4-8aa3b772db83",
   "metadata": {},
   "outputs": [],
   "source": [
    "from __future__ import annotations\n",
    "import pprint\n",
    "from typing import Sequence, List"
   ]
  },
  {
   "cell_type": "code",
   "execution_count": 173,
   "id": "6d14de3b-9973-4ab4-a0d6-7bd1097c20e0",
   "metadata": {},
   "outputs": [],
   "source": [
    "class Matrix:\n",
    "    def __init__(self, val: Sequence[Sequence[float]]):\n",
    "        if not val or not val[0]:\n",
    "            raise ValueError(\"Matrix must be non-empty\")\n",
    "        ncols = len(val[0])\n",
    "        if any(len(row) != ncols for row in val):\n",
    "            raise ValueError(\"All rows must have the same length\")\n",
    "        # defensive copy\n",
    "        self.val: List[List[float]] = [list(row) for row in val]\n",
    "\n",
    "    # ---------- Utils ----------\n",
    "    @property\n",
    "    def nrows(self):\n",
    "        return len(self.val)\n",
    "    \n",
    "    @property\n",
    "    def ncols(self):\n",
    "        return len(self.val[0])\n",
    "    \n",
    "    @property\n",
    "    def shape(self):\n",
    "        return (self.nrows, self.ncols)\n",
    "\n",
    "    @property\n",
    "    def ndim(self):\n",
    "        return 2\n",
    "        \n",
    "    def __repr__(self):\n",
    "        rows = ', \\n'.join(str(row) for row in self.val)\n",
    "        return f\"Matrix([\\n{rows}\\n])\"\n",
    "\n",
    "    def __getitem__(self, idx: int):\n",
    "        '''for indexing into the matrix to return the indexed row from the matrix'''\n",
    "        if idx < 0 or idx >= len(self.val):\n",
    "            raise IndexError(f\"Row index {idx} out of range; must be in [0, {len(self.val)-1}]\")\n",
    "        \n",
    "        return self.val[idx]\n",
    "\n",
    "    def __eq__(self, other):\n",
    "        '''Checks equality of two matrices element wise.'''\n",
    "        if not isinstance(other, Matrix): return False\n",
    "\n",
    "        if self.shape != other.shape: return False\n",
    "        \n",
    "        return all(self[i][j] == other[i][j]\n",
    "                  for i in range(self.nrows)\n",
    "                  for j in range(self.ncols))\n",
    "\n",
    "    def zeros(self, shape: tuple):\n",
    "        '''create a matrix of zeros for shape (nrows, ncols)'''\n",
    "        nrows, ncols = shape\n",
    "        out = Matrix([[0 for _ in range(ncols)] for _ in range(nrows)])\n",
    "        return out\n",
    "    \n",
    "    def ones(self, shape: tuple):\n",
    "        '''create a matrix of ones for shape (nrows, ncols)'''\n",
    "        nrows, ncols = shape\n",
    "        out = Matrix([[0 for _ in range(ncols)] for _ in range(nrows)])\n",
    "        return out\n",
    "\n",
    "    # ---------- Core Functionality ----------\n",
    "    def __add__(self, other: Matrix) -> Matrix:\n",
    "        '''matrix only for now, does not accept scalars'''\n",
    "        if not isinstance(other, Matrix): \n",
    "            return NotImplemented\n",
    "        \n",
    "        if self.shape != other.shape:\n",
    "            raise ValueError(f'Cannot add matrices of different sizes, {self.shape} != {other.shape}')\n",
    "\n",
    "        out = [[self.val[i][j] + other.val[i][j] for j in range(self.ncols)]for i in range(self.nrows)]\n",
    "        return Matrix(out)\n",
    "    \n",
    "    def __sub__(self, other: Matrix) -> Matrix:\n",
    "        '''matrix only for now, does not accept scalars'''\n",
    "        if not isinstance(other, Matrix): \n",
    "            return NotImplemented\n",
    "        \n",
    "        if self.shape != other.shape:\n",
    "            raise ValueError(f'Cannot add matrices of different sizes, {self.shape} != {other.shape}')\n",
    "\n",
    "        out = [[self.val[i][j] - other.val[i][j] for j in range(self.ncols)] \n",
    "               for i in range(self.nrows)]\n",
    "        return Matrix(out)\n",
    "\n",
    "    def __matmul__(self, other):\n",
    "        # to keep my sanity\n",
    "        n = len(self.val)      # row\n",
    "        m = len(self.val[0])   # col  \n",
    "        p = len(other.val)     # row \n",
    "        q = len(other.val[0])  # col\n",
    "        \n",
    "        if not isinstance(other, Matrix): return NotImplemented \n",
    "\n",
    "        # check matmul conditions\n",
    "        if m!=p:\n",
    "            raise ValueError(f'Cannot multiply matrices of shapes [{self.shape} X {other.shape}], {self.shape[1]}!={other.shape[0]}!')\n",
    "            \n",
    "        res = [[0 for _ in range(q)] for _ in range(n)]\n",
    "\n",
    "        for i in range(n):\n",
    "            for j in range(q):\n",
    "                for k in range(m):\n",
    "                    res[i][j] += self.val[i][k] * other.val[k][j]\n",
    "        \n",
    "        return Matrix(res)"
   ]
  },
  {
   "cell_type": "code",
   "execution_count": 174,
   "id": "474ed2a2-97d4-4e06-b719-43cba9bb6261",
   "metadata": {},
   "outputs": [
    {
     "data": {
      "text/plain": [
       "False"
      ]
     },
     "execution_count": 174,
     "metadata": {},
     "output_type": "execute_result"
    }
   ],
   "source": [
    "x = Matrix([[1,2,3],[4,5,6]])\n",
    "y = Matrix([[1,4,3],[4,5,6]])\n",
    "x == y"
   ]
  },
  {
   "cell_type": "code",
   "execution_count": 175,
   "id": "c1ac344b-a765-4b83-94f0-f000a8d30de0",
   "metadata": {},
   "outputs": [
    {
     "data": {
      "text/plain": [
       "Matrix([\n",
       "[2, 6, 6], \n",
       "[8, 10, 12]\n",
       "])"
      ]
     },
     "execution_count": 175,
     "metadata": {},
     "output_type": "execute_result"
    }
   ],
   "source": [
    "x + y"
   ]
  },
  {
   "cell_type": "code",
   "execution_count": 176,
   "id": "10974ae1-823d-4d79-9358-f570ae82984a",
   "metadata": {},
   "outputs": [
    {
     "data": {
      "text/plain": [
       "Matrix([\n",
       "[2, 2, 2], \n",
       "[2, 2, 2]\n",
       "])"
      ]
     },
     "execution_count": 176,
     "metadata": {},
     "output_type": "execute_result"
    }
   ],
   "source": [
    "r = Matrix([[4, 6, 8], [4, 6, 8]])\n",
    "v = Matrix([[2, 4, 6], [2, 4, 6]])\n",
    "r - v "
   ]
  },
  {
   "cell_type": "code",
   "execution_count": 177,
   "id": "ef0c543d-e45d-4696-9724-1d5239bc6efb",
   "metadata": {},
   "outputs": [
    {
     "data": {
      "text/plain": [
       "((2, 3), (2, 3))"
      ]
     },
     "execution_count": 177,
     "metadata": {},
     "output_type": "execute_result"
    }
   ],
   "source": [
    "x.shape, y.shape"
   ]
  },
  {
   "cell_type": "code",
   "execution_count": 178,
   "id": "44cbbe54-c9c5-4c10-a5a0-3bc969b8630b",
   "metadata": {},
   "outputs": [
    {
     "ename": "ValueError",
     "evalue": "Cannot multiply matrices of shapes [(2, 3) X (2, 3)], 3!=2!",
     "output_type": "error",
     "traceback": [
      "\u001b[0;31m---------------------------------------------------------------------------\u001b[0m",
      "\u001b[0;31mValueError\u001b[0m                                Traceback (most recent call last)",
      "Cell \u001b[0;32mIn[178], line 1\u001b[0m\n\u001b[0;32m----> 1\u001b[0m x \u001b[38;5;241m@\u001b[39m  y\n",
      "Cell \u001b[0;32mIn[173], line 96\u001b[0m, in \u001b[0;36mMatrix.__matmul__\u001b[0;34m(self, other)\u001b[0m\n\u001b[1;32m     94\u001b[0m \u001b[38;5;66;03m# check matmul conditions\u001b[39;00m\n\u001b[1;32m     95\u001b[0m \u001b[38;5;28;01mif\u001b[39;00m m\u001b[38;5;241m!=\u001b[39mp:\n\u001b[0;32m---> 96\u001b[0m     \u001b[38;5;28;01mraise\u001b[39;00m \u001b[38;5;167;01mValueError\u001b[39;00m(\u001b[38;5;124mf\u001b[39m\u001b[38;5;124m'\u001b[39m\u001b[38;5;124mCannot multiply matrices of shapes [\u001b[39m\u001b[38;5;132;01m{\u001b[39;00m\u001b[38;5;28mself\u001b[39m\u001b[38;5;241m.\u001b[39mshape\u001b[38;5;132;01m}\u001b[39;00m\u001b[38;5;124m X \u001b[39m\u001b[38;5;132;01m{\u001b[39;00mother\u001b[38;5;241m.\u001b[39mshape\u001b[38;5;132;01m}\u001b[39;00m\u001b[38;5;124m], \u001b[39m\u001b[38;5;132;01m{\u001b[39;00m\u001b[38;5;28mself\u001b[39m\u001b[38;5;241m.\u001b[39mshape[\u001b[38;5;241m1\u001b[39m]\u001b[38;5;132;01m}\u001b[39;00m\u001b[38;5;124m!=\u001b[39m\u001b[38;5;132;01m{\u001b[39;00mother\u001b[38;5;241m.\u001b[39mshape[\u001b[38;5;241m0\u001b[39m]\u001b[38;5;132;01m}\u001b[39;00m\u001b[38;5;124m!\u001b[39m\u001b[38;5;124m'\u001b[39m)\n\u001b[1;32m     98\u001b[0m res \u001b[38;5;241m=\u001b[39m [[\u001b[38;5;241m0\u001b[39m \u001b[38;5;28;01mfor\u001b[39;00m _ \u001b[38;5;129;01min\u001b[39;00m \u001b[38;5;28mrange\u001b[39m(q)] \u001b[38;5;28;01mfor\u001b[39;00m _ \u001b[38;5;129;01min\u001b[39;00m \u001b[38;5;28mrange\u001b[39m(n)]\n\u001b[1;32m    100\u001b[0m \u001b[38;5;28;01mfor\u001b[39;00m i \u001b[38;5;129;01min\u001b[39;00m \u001b[38;5;28mrange\u001b[39m(n):\n",
      "\u001b[0;31mValueError\u001b[0m: Cannot multiply matrices of shapes [(2, 3) X (2, 3)], 3!=2!"
     ]
    }
   ],
   "source": [
    "x @  y # works"
   ]
  },
  {
   "cell_type": "code",
   "execution_count": 184,
   "id": "91d53655-c1bf-4e25-993e-75ea7e7359d1",
   "metadata": {},
   "outputs": [
    {
     "data": {
      "text/plain": [
       "Matrix([\n",
       "[40, 58], \n",
       "[40, 58]\n",
       "])"
      ]
     },
     "execution_count": 184,
     "metadata": {},
     "output_type": "execute_result"
    }
   ],
   "source": [
    "x = Matrix([[4, 6, 8], [4, 6, 8]])    # 2,3\n",
    "y = Matrix([[1, 2], [2, 3], [3, 4]])  # 3,2\n",
    "\n",
    "x @ y                                 # 2,2"
   ]
  },
  {
   "cell_type": "code",
   "execution_count": 185,
   "id": "805ae476-efe3-4029-ab4c-756d2a3c2e4b",
   "metadata": {},
   "outputs": [
    {
     "data": {
      "text/plain": [
       "Matrix([\n",
       "[0, 0, 0], \n",
       "[0, 0, 0]\n",
       "])"
      ]
     },
     "execution_count": 185,
     "metadata": {},
     "output_type": "execute_result"
    }
   ],
   "source": [
    "x.zeros((2, 3))"
   ]
  },
  {
   "cell_type": "code",
   "execution_count": 186,
   "id": "8befdc1e-eb33-48e9-929e-e216bf4f0c12",
   "metadata": {},
   "outputs": [
    {
     "data": {
      "text/plain": [
       "Matrix([\n",
       "[0, 0, 0]\n",
       "])"
      ]
     },
     "execution_count": 186,
     "metadata": {},
     "output_type": "execute_result"
    }
   ],
   "source": [
    "x.ones((1, 3))"
   ]
  }
 ],
 "metadata": {
  "kernelspec": {
   "display_name": "Python 3 (ipykernel)",
   "language": "python",
   "name": "python3"
  },
  "language_info": {
   "codemirror_mode": {
    "name": "ipython",
    "version": 3
   },
   "file_extension": ".py",
   "mimetype": "text/x-python",
   "name": "python",
   "nbconvert_exporter": "python",
   "pygments_lexer": "ipython3",
   "version": "3.13.5"
  }
 },
 "nbformat": 4,
 "nbformat_minor": 5
}
