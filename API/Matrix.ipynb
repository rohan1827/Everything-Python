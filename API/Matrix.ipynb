{
 "cells": [
  {
   "cell_type": "code",
   "execution_count": 1,
   "id": "666f4170-b0fa-4c32-9823-0360503bd72a",
   "metadata": {},
   "outputs": [],
   "source": [
    "# This script implements the matrix class and its arthematic operations."
   ]
  },
  {
   "cell_type": "code",
   "execution_count": 6,
   "id": "3eded053-f497-4909-aef4-8aa3b772db83",
   "metadata": {},
   "outputs": [],
   "source": [
    "from __future__ import annotations\n",
    "import pprint\n",
    "from typing import Sequence, List"
   ]
  },
  {
   "cell_type": "code",
   "execution_count": 77,
   "id": "6d14de3b-9973-4ab4-a0d6-7bd1097c20e0",
   "metadata": {},
   "outputs": [],
   "source": [
    "class Matrix:\n",
    "    def __init__(self, val: Sequence[Sequence[float]]):\n",
    "        if not val or not val[0]:\n",
    "            raise ValueError(\"Matrix must be non-empty\")\n",
    "        ncols = len(val[0])\n",
    "        if any(len(row) != ncols for row in val):\n",
    "            raise ValueError(\"All rows must have the same length\")\n",
    "        # defensive copy\n",
    "        self.val: List[List[float]] = [list(row) for row in val]\n",
    "\n",
    "    # ---------- Utils ----------\n",
    "    @property\n",
    "    def nrows(self):\n",
    "        return len(self.val)\n",
    "    \n",
    "    @property\n",
    "    def ncols(self):\n",
    "        return len(self.val[0])\n",
    "    \n",
    "    @property\n",
    "    def shape(self):\n",
    "        return (self.nrows, self.ncols)\n",
    "\n",
    "    @property\n",
    "    def ndim(self):\n",
    "        return 2\n",
    "        \n",
    "    def __repr__(self):\n",
    "        rows = ', \\n'.join(str(row) for row in self.val)\n",
    "        return f\"Matrix([\\n{rows}\\n])\"\n",
    "\n",
    "    def __getitem__(self, idx: int):\n",
    "        '''for indexing into the matrix to return the indexed row from the matrix'''\n",
    "        if idx < 0 or idx >= len(self.val):\n",
    "            raise IndexError(f\"Row index {idx} out of range; must be in [0, {len(self.val)-1}]\")\n",
    "        \n",
    "        return self.val[idx]\n",
    "\n",
    "    def __eq__(self, other):\n",
    "        '''Checks equality of two matrices element wise.'''\n",
    "        if not isinstance(other, Matrix): return False\n",
    "\n",
    "        if self.shape != other.shape: return False\n",
    "        \n",
    "        return all(self[i][j] == other[i][j]\n",
    "                  for i in range(self.nrows)\n",
    "                  for j in range(self.ncols))\n",
    "\n",
    "    def zeros(self, shape: tuple):\n",
    "        '''create a matrix of zeros for shape (nrows, ncols)'''\n",
    "        nrows, ncols = shape\n",
    "        out = Matrix([[0 for _ in range(ncols)] for _ in range(nrows)])\n",
    "        return out\n",
    "    \n",
    "    def ones(self, shape: tuple):\n",
    "        '''create a matrix of ones for shape (nrows, ncols)'''\n",
    "        nrows, ncols = shape\n",
    "        out = Matrix([[0 for _ in range(ncols)] for _ in range(nrows)])\n",
    "        return out\n",
    "\n",
    "    # ---------- Core Functionality ----------\n",
    "    def __add__(self, other: Matrix) -> Matrix:\n",
    "        '''matrix only for now, does not accept scalars'''\n",
    "        if not isinstance(other, Matrix): \n",
    "            return NotImplemented\n",
    "        \n",
    "        if self.shape != other.shape:\n",
    "            raise ValueError(f'Cannot add matrices of different sizes, {self.shape} != {other.shape}')\n",
    "\n",
    "        out = [[self.val[i][j] + other.val[i][j] for j in range(self.ncols)]for i in range(self.nrows)]\n",
    "        return Matrix(out)\n",
    "    \n",
    "    def __sub__(self, other: Matrix) -> Matrix:\n",
    "        '''matrix only for now, does not accept scalars'''\n",
    "        if not isinstance(other, Matrix): \n",
    "            return NotImplemented\n",
    "        \n",
    "        if self.shape != other.shape:\n",
    "            raise ValueError(f'Cannot add matrices of different sizes, {self.shape} != {other.shape}')\n",
    "\n",
    "        out = [[self.val[i][j] - other.val[i][j] for j in range(self.ncols)] \n",
    "               for i in range(self.nrows)]\n",
    "        return Matrix(out)\n",
    "\n",
    "    def __matmul__(self, other):\n",
    "        # to keep my sanity\n",
    "        n = len(self.val)      # row\n",
    "        m = len(self.val[0])   # col  \n",
    "        p = len(other.val)     # row \n",
    "        q = len(other.val[0])  # col\n",
    "        \n",
    "        if not isinstance(other, Matrix): return NotImplemented \n",
    "\n",
    "        # check matmul conditions\n",
    "        if m!=p:\n",
    "            raise ValueError(f'Cannot multiply matrices of shapes [{self.shape} X {other.shape}], {self.shape[1]}!={other.shape[0]}!')\n",
    "            \n",
    "        res = [[0 for _ in range(q)] for _ in range(n)]\n",
    "\n",
    "        for i in range(n):\n",
    "            for j in range(q):\n",
    "                for k in range(m):\n",
    "                    res[i][j] += self.val[i][k] * other.val[k][j]\n",
    "        \n",
    "        return Matrix(res)\n",
    "\n",
    "\n",
    "    def det(self):\n",
    "        '''Return determinant for a 2x2 or a 3x3 matrix'''\n",
    "        out = 0\n",
    "        \n",
    "        if self.shape not in [(2,2), (3,3)]:\n",
    "            raise ValueError('Enter a valid matrix, only accepted (2,2) or (3,3) matrices')\n",
    "\n",
    "        if len(self.val) == 2 and len(self.val[0]) == 2:\n",
    "            # ad - bc\n",
    "            a, b = self.val[0]\n",
    "            c, d = self.val[1]\n",
    "\n",
    "            out = a*d - b*c\n",
    "\n",
    "\n",
    "        if len(self.val) == 3 and len(self.val[0]) == 3:\n",
    "            #  a(ei−fh)−b(di−fg)+c(dh−eg)\n",
    "            a,b,c = self.val[0]\n",
    "            d,e,f = self.val[1]\n",
    "            g,h,i = self.val[2]\n",
    "\n",
    "\n",
    "            out =  a*(e*i - f*h) - b*(d*i - f*g) + c*(d*h - e*g)\n",
    "        \n",
    "        return out\n",
    "\n",
    "    def T(self):\n",
    "        '''returns transpose of a matrix'''\n",
    "        tr = list(zip(*self.val))\n",
    "        out = [tr[i] for i in range(len(tr))]\n",
    "        return Matrix(out)"
   ]
  },
  {
   "cell_type": "code",
   "execution_count": 78,
   "id": "474ed2a2-97d4-4e06-b719-43cba9bb6261",
   "metadata": {},
   "outputs": [
    {
     "data": {
      "text/plain": [
       "False"
      ]
     },
     "execution_count": 78,
     "metadata": {},
     "output_type": "execute_result"
    }
   ],
   "source": [
    "x = Matrix([[1,2,3],[4,5,6]])\n",
    "y = Matrix([[1,4,3],[4,5,6]])\n",
    "x == y"
   ]
  },
  {
   "cell_type": "code",
   "execution_count": 79,
   "id": "c1ac344b-a765-4b83-94f0-f000a8d30de0",
   "metadata": {},
   "outputs": [
    {
     "data": {
      "text/plain": [
       "Matrix([\n",
       "[2, 6, 6], \n",
       "[8, 10, 12]\n",
       "])"
      ]
     },
     "execution_count": 79,
     "metadata": {},
     "output_type": "execute_result"
    }
   ],
   "source": [
    "x + y"
   ]
  },
  {
   "cell_type": "code",
   "execution_count": 80,
   "id": "10974ae1-823d-4d79-9358-f570ae82984a",
   "metadata": {},
   "outputs": [
    {
     "data": {
      "text/plain": [
       "Matrix([\n",
       "[2, 2, 2], \n",
       "[2, 2, 2]\n",
       "])"
      ]
     },
     "execution_count": 80,
     "metadata": {},
     "output_type": "execute_result"
    }
   ],
   "source": [
    "r = Matrix([[4, 6, 8], [4, 6, 8]])\n",
    "v = Matrix([[2, 4, 6], [2, 4, 6]])\n",
    "r - v "
   ]
  },
  {
   "cell_type": "code",
   "execution_count": 81,
   "id": "ef0c543d-e45d-4696-9724-1d5239bc6efb",
   "metadata": {},
   "outputs": [
    {
     "data": {
      "text/plain": [
       "((2, 3), (2, 3))"
      ]
     },
     "execution_count": 81,
     "metadata": {},
     "output_type": "execute_result"
    }
   ],
   "source": [
    "x.shape, y.shape"
   ]
  },
  {
   "cell_type": "code",
   "execution_count": 82,
   "id": "91d53655-c1bf-4e25-993e-75ea7e7359d1",
   "metadata": {},
   "outputs": [
    {
     "data": {
      "text/plain": [
       "Matrix([\n",
       "[40, 58], \n",
       "[40, 58]\n",
       "])"
      ]
     },
     "execution_count": 82,
     "metadata": {},
     "output_type": "execute_result"
    }
   ],
   "source": [
    "x = Matrix([[4, 6, 8], [4, 6, 8]])    # 2,3\n",
    "y = Matrix([[1, 2], [2, 3], [3, 4]])  # 3,2\n",
    "\n",
    "x @ y                                 # 2,2"
   ]
  },
  {
   "cell_type": "code",
   "execution_count": 83,
   "id": "805ae476-efe3-4029-ab4c-756d2a3c2e4b",
   "metadata": {},
   "outputs": [
    {
     "data": {
      "text/plain": [
       "Matrix([\n",
       "[0, 0, 0], \n",
       "[0, 0, 0]\n",
       "])"
      ]
     },
     "execution_count": 83,
     "metadata": {},
     "output_type": "execute_result"
    }
   ],
   "source": [
    "x.zeros((2, 3))"
   ]
  },
  {
   "cell_type": "code",
   "execution_count": 84,
   "id": "8befdc1e-eb33-48e9-929e-e216bf4f0c12",
   "metadata": {},
   "outputs": [
    {
     "data": {
      "text/plain": [
       "Matrix([\n",
       "[0, 0, 0]\n",
       "])"
      ]
     },
     "execution_count": 84,
     "metadata": {},
     "output_type": "execute_result"
    }
   ],
   "source": [
    "x.ones((1, 3))"
   ]
  },
  {
   "cell_type": "code",
   "execution_count": 85,
   "id": "e6cc5528-6fc7-4ba8-9b0a-377d3e015703",
   "metadata": {},
   "outputs": [
    {
     "data": {
      "text/plain": [
       "2"
      ]
     },
     "execution_count": 85,
     "metadata": {},
     "output_type": "execute_result"
    }
   ],
   "source": [
    "de_a = Matrix([[3, 4], [1, 2]])\n",
    "de_a.det()"
   ]
  },
  {
   "cell_type": "code",
   "execution_count": 86,
   "id": "9043f55c-842c-431a-8b20-6af06e52d846",
   "metadata": {},
   "outputs": [
    {
     "data": {
      "text/plain": [
       "Matrix([\n",
       "[3, 7], \n",
       "[4, 5], \n",
       "[5, 6], \n",
       "[4, 4]\n",
       "])"
      ]
     },
     "execution_count": 86,
     "metadata": {},
     "output_type": "execute_result"
    }
   ],
   "source": [
    "r = Matrix([[3,4,5,4], [7,5,6,4]])\n",
    "r.T()"
   ]
  }
 ],
 "metadata": {
  "kernelspec": {
   "display_name": "Python 3 (ipykernel)",
   "language": "python",
   "name": "python3"
  },
  "language_info": {
   "codemirror_mode": {
    "name": "ipython",
    "version": 3
   },
   "file_extension": ".py",
   "mimetype": "text/x-python",
   "name": "python",
   "nbconvert_exporter": "python",
   "pygments_lexer": "ipython3",
   "version": "3.13.5"
  }
 },
 "nbformat": 4,
 "nbformat_minor": 5
}
