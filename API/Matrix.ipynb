{
 "cells": [
  {
   "cell_type": "code",
   "execution_count": 3,
   "id": "666f4170-b0fa-4c32-9823-0360503bd72a",
   "metadata": {},
   "outputs": [],
   "source": [
    "# This script implements the matrix class and its arthematic operations."
   ]
  },
  {
   "cell_type": "code",
   "execution_count": 4,
   "id": "3eded053-f497-4909-aef4-8aa3b772db83",
   "metadata": {},
   "outputs": [],
   "source": [
    "from __future__ import annotations"
   ]
  },
  {
   "cell_type": "code",
   "execution_count": 22,
   "id": "6d14de3b-9973-4ab4-a0d6-7bd1097c20e0",
   "metadata": {},
   "outputs": [],
   "source": [
    "class Matrix:\n",
    "    def __init__(self, val: list|list(list)):\n",
    "        self.val = val\n",
    "\n",
    "    # ---------- Utils ----------\n",
    "    pass"
   ]
  },
  {
   "cell_type": "code",
   "execution_count": 23,
   "id": "474ed2a2-97d4-4e06-b719-43cba9bb6261",
   "metadata": {},
   "outputs": [],
   "source": [
    "x = Matrix([[1,2,3],[4,5,6]])"
   ]
  },
  {
   "cell_type": "code",
   "execution_count": null,
   "id": "8d4da73b-2019-407a-9dd5-35103b3bfa39",
   "metadata": {},
   "outputs": [],
   "source": []
  }
 ],
 "metadata": {
  "kernelspec": {
   "display_name": "Python 3 (ipykernel)",
   "language": "python",
   "name": "python3"
  },
  "language_info": {
   "codemirror_mode": {
    "name": "ipython",
    "version": 3
   },
   "file_extension": ".py",
   "mimetype": "text/x-python",
   "name": "python",
   "nbconvert_exporter": "python",
   "pygments_lexer": "ipython3",
   "version": "3.13.5"
  }
 },
 "nbformat": 4,
 "nbformat_minor": 5
}
