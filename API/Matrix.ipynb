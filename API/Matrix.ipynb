{
 "cells": [
  {
   "cell_type": "code",
   "execution_count": 1,
   "id": "666f4170-b0fa-4c32-9823-0360503bd72a",
   "metadata": {},
   "outputs": [],
   "source": [
    "# This script implements the matrix class and its arthematic operations."
   ]
  },
  {
   "cell_type": "code",
   "execution_count": 2,
   "id": "3eded053-f497-4909-aef4-8aa3b772db83",
   "metadata": {},
   "outputs": [],
   "source": [
    "from __future__ import annotations\n",
    "import pprint"
   ]
  },
  {
   "cell_type": "code",
   "execution_count": 3,
   "id": "6d14de3b-9973-4ab4-a0d6-7bd1097c20e0",
   "metadata": {},
   "outputs": [],
   "source": [
    "class Matrix:\n",
    "    def __init__(self, val: list|list(list)):\n",
    "        self.val = val\n",
    "\n",
    "    # ---------- Utils ----------\n",
    "    @property\n",
    "    def nrows(self):\n",
    "        return len(self.val)\n",
    "    \n",
    "    @property\n",
    "    def ncols(self):\n",
    "        return len(self.val[0])\n",
    "    \n",
    "    @property\n",
    "    def shape(self):\n",
    "        return (self.nrows, self.ncols)\n",
    "    \n",
    "    def __repr__(self):\n",
    "        len_v = len(self.val)\n",
    "        out = ''\n",
    "        for x in range(len_v):\n",
    "            out += str(self.val[x])\n",
    "        return f'Matrix({out})'\n",
    "        # return pprint.pprint(Matrix)\n",
    "\n",
    "    def __getitem__(self, idx: int):\n",
    "        '''for indexing into the matrix to return the indexed row from the matrix'''\n",
    "        if idx < 0 or idx >= len(self.val):\n",
    "            raise IndexError(f\"Row index {idx} out of range; must be in [0, {len(self.val)-1}]\")\n",
    "        \n",
    "        return self.val[idx]\n",
    "\n",
    "    def __eq__(self, other):\n",
    "        '''Checks equality of two matrices element wise.'''\n",
    "        other = other if isinstance(other, Matrix) else Matrix(other)\n",
    "\n",
    "        if self.shape != other.shape:\n",
    "            return False\n",
    "        return all(self[i][j] == other[i][j]\n",
    "                  for i in range(self.nrows)\n",
    "                  for j in range(self.ncols))\n",
    "\n",
    "    # ---------- Core Functionality ----------\n",
    "    def __add__(self, other: Matrix) -> Matrix:\n",
    "        other = other if isinstance(other, Matrix) else Matrix(other)\n",
    "        \n",
    "        if self.shape != other.shape:\n",
    "            raise ValueError(f'Cannot add matrices of different sizes, {self.shape} != {other.shape}')\n",
    "\n",
    "        for i in range(self.nrows):\n",
    "            for j in range(self.ncols):\n",
    "                self[i][j] += other[i][j]\n",
    "        \n",
    "        return self\n",
    "    \n",
    "    def __sub__(self, other: Matrix) -> Matrix:\n",
    "        other = other if isinstance(other, Matrix) else Matrix(other)\n",
    "        \n",
    "        if self.shape != other.shape:\n",
    "            raise ValueError(f'Cannot add matrices of different sizes, {self.shape} != {other.shape}')\n",
    "\n",
    "        for i in range(self.nrows):\n",
    "            for j in range(self.ncols):\n",
    "                self[i][j] -= other[i][j]\n",
    "        return self\n",
    "\n",
    "    def __matmul__(self, other):\n",
    "        other = other if isinstance(other, Matrix) else Matrix(other)\n",
    "\n",
    "        # check matmul conditions\n",
    "        self_shape = self.shape\n",
    "        other_shape = other.shape\n",
    "\n",
    "        if self.shape[1] != other.shape[0]:\n",
    "            raise ValueError(f'Cannot multiply matrices of shapes [{self.shape} X {other.shape}], {self.shape[1]}!={other.shape[0]}!')\n",
    "\n",
    "        # c[i][j] += a[i][j] * b[j][i] \n",
    "        "
   ]
  },
  {
   "cell_type": "code",
   "execution_count": 4,
   "id": "474ed2a2-97d4-4e06-b719-43cba9bb6261",
   "metadata": {},
   "outputs": [
    {
     "data": {
      "text/plain": [
       "False"
      ]
     },
     "execution_count": 4,
     "metadata": {},
     "output_type": "execute_result"
    }
   ],
   "source": [
    "x = Matrix([[1,2,3],[4,5,6]])\n",
    "y = Matrix([[1,4,3],[4,5,6]])\n",
    "x == y"
   ]
  },
  {
   "cell_type": "code",
   "execution_count": 5,
   "id": "c1ac344b-a765-4b83-94f0-f000a8d30de0",
   "metadata": {},
   "outputs": [
    {
     "data": {
      "text/plain": [
       "Matrix([2, 6, 6][8, 10, 12])"
      ]
     },
     "execution_count": 5,
     "metadata": {},
     "output_type": "execute_result"
    }
   ],
   "source": [
    "x + y"
   ]
  },
  {
   "cell_type": "code",
   "execution_count": 6,
   "id": "10974ae1-823d-4d79-9358-f570ae82984a",
   "metadata": {},
   "outputs": [
    {
     "data": {
      "text/plain": [
       "Matrix([2, 2, 2][2, 2, 2])"
      ]
     },
     "execution_count": 6,
     "metadata": {},
     "output_type": "execute_result"
    }
   ],
   "source": [
    "r = Matrix([[4, 6, 8], [4, 6, 8]])\n",
    "v = Matrix([[2, 4, 6], [2, 4, 6]])\n",
    "r - v "
   ]
  },
  {
   "cell_type": "code",
   "execution_count": 7,
   "id": "ef0c543d-e45d-4696-9724-1d5239bc6efb",
   "metadata": {},
   "outputs": [
    {
     "data": {
      "text/plain": [
       "((2, 3), (2, 3))"
      ]
     },
     "execution_count": 7,
     "metadata": {},
     "output_type": "execute_result"
    }
   ],
   "source": [
    "x.shape, y.shape"
   ]
  },
  {
   "cell_type": "code",
   "execution_count": 8,
   "id": "44cbbe54-c9c5-4c10-a5a0-3bc969b8630b",
   "metadata": {},
   "outputs": [
    {
     "ename": "ValueError",
     "evalue": "Cannot multiply matrices of shapes [(2, 3) X (2, 3)], 3!=2!",
     "output_type": "error",
     "traceback": [
      "\u001b[0;31m---------------------------------------------------------------------------\u001b[0m",
      "\u001b[0;31mValueError\u001b[0m                                Traceback (most recent call last)",
      "Cell \u001b[0;32mIn[8], line 1\u001b[0m\n\u001b[0;32m----> 1\u001b[0m x \u001b[38;5;241m@\u001b[39m  y\n",
      "Cell \u001b[0;32mIn[3], line 75\u001b[0m, in \u001b[0;36mMatrix.__matmul__\u001b[0;34m(self, other)\u001b[0m\n\u001b[1;32m     72\u001b[0m other_shape \u001b[38;5;241m=\u001b[39m other\u001b[38;5;241m.\u001b[39mshape\n\u001b[1;32m     74\u001b[0m \u001b[38;5;28;01mif\u001b[39;00m \u001b[38;5;28mself\u001b[39m\u001b[38;5;241m.\u001b[39mshape[\u001b[38;5;241m1\u001b[39m] \u001b[38;5;241m!=\u001b[39m other\u001b[38;5;241m.\u001b[39mshape[\u001b[38;5;241m0\u001b[39m]:\n\u001b[0;32m---> 75\u001b[0m     \u001b[38;5;28;01mraise\u001b[39;00m \u001b[38;5;167;01mValueError\u001b[39;00m(\u001b[38;5;124mf\u001b[39m\u001b[38;5;124m'\u001b[39m\u001b[38;5;124mCannot multiply matrices of shapes [\u001b[39m\u001b[38;5;132;01m{\u001b[39;00m\u001b[38;5;28mself\u001b[39m\u001b[38;5;241m.\u001b[39mshape\u001b[38;5;132;01m}\u001b[39;00m\u001b[38;5;124m X \u001b[39m\u001b[38;5;132;01m{\u001b[39;00mother\u001b[38;5;241m.\u001b[39mshape\u001b[38;5;132;01m}\u001b[39;00m\u001b[38;5;124m], \u001b[39m\u001b[38;5;132;01m{\u001b[39;00m\u001b[38;5;28mself\u001b[39m\u001b[38;5;241m.\u001b[39mshape[\u001b[38;5;241m1\u001b[39m]\u001b[38;5;132;01m}\u001b[39;00m\u001b[38;5;124m!=\u001b[39m\u001b[38;5;132;01m{\u001b[39;00mother\u001b[38;5;241m.\u001b[39mshape[\u001b[38;5;241m0\u001b[39m]\u001b[38;5;132;01m}\u001b[39;00m\u001b[38;5;124m!\u001b[39m\u001b[38;5;124m'\u001b[39m)\n\u001b[1;32m     77\u001b[0m \u001b[38;5;28;01mpass\u001b[39;00m\n",
      "\u001b[0;31mValueError\u001b[0m: Cannot multiply matrices of shapes [(2, 3) X (2, 3)], 3!=2!"
     ]
    }
   ],
   "source": [
    "x @  y # works"
   ]
  }
 ],
 "metadata": {
  "kernelspec": {
   "display_name": "Python 3 (ipykernel)",
   "language": "python",
   "name": "python3"
  },
  "language_info": {
   "codemirror_mode": {
    "name": "ipython",
    "version": 3
   },
   "file_extension": ".py",
   "mimetype": "text/x-python",
   "name": "python",
   "nbconvert_exporter": "python",
   "pygments_lexer": "ipython3",
   "version": "3.13.5"
  }
 },
 "nbformat": 4,
 "nbformat_minor": 5
}
