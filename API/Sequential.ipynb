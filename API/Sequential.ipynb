{
 "cells": [
  {
   "cell_type": "code",
   "execution_count": 21,
   "id": "146e523e-d216-4603-b123-fa1b552a61e5",
   "metadata": {},
   "outputs": [],
   "source": [
    "from __future__ import annotations\n",
    "import numpy as np\n",
    "import math as m"
   ]
  },
  {
   "cell_type": "code",
   "execution_count": 18,
   "id": "8eed3b82-b1b9-42c4-8a25-fda660207348",
   "metadata": {},
   "outputs": [],
   "source": [
    "class Linear:\n",
    "    def __init__(self, in_features: int, out_features: int):\n",
    "        # xavier-like normalization\n",
    "        limit = 1/np.sqrt(in_features)\n",
    "        self._w = np.random.uniform(-limit, limit, (in_features, out_features))\n",
    "        self._b = np.zeros(out_features)\n",
    "        \n",
    "    def __call__(self, X):\n",
    "        return X @ self._w + self._b\n",
    "\n",
    "    def parameters(self):\n",
    "        return [self._w , self._b]"
   ]
  },
  {
   "cell_type": "code",
   "execution_count": 36,
   "id": "21422531-354e-4c20-b702-df4147a947bc",
   "metadata": {},
   "outputs": [],
   "source": [
    "class ReLU:\n",
    "    def __call__(self, x):\n",
    "        out = max(0, x)\n",
    "        return out\n",
    "\n",
    "    def parameters(self):\n",
    "        return []"
   ]
  },
  {
   "cell_type": "code",
   "execution_count": 37,
   "id": "b6364760-b715-42d7-b81f-ff8bac3a3954",
   "metadata": {},
   "outputs": [],
   "source": [
    "class Tanh:\n",
    "    def __call__(self, x):\n",
    "        out = (m.e**x) - (m.e ** (-x)) / (m.e**x) + (m.e ** (-x)) \n",
    "        return out\n",
    "    \n",
    "    def parameters(self):\n",
    "        return []"
   ]
  },
  {
   "cell_type": "code",
   "execution_count": 38,
   "id": "5f41b193-2a50-4f81-bf2f-c08592ebd514",
   "metadata": {},
   "outputs": [],
   "source": [
    "class Sequential:\n",
    "    def __init__(self, *layers):\n",
    "        self.layers = list(layers)\n",
    "\n",
    "    def __call__(self, x):\n",
    "        for layer in self.layers:\n",
    "            x = layer(x)\n",
    "        return x\n",
    "\n",
    "    def parameters(self):\n",
    "        params = []\n",
    "\n",
    "        for layer in self.layers:\n",
    "            params.extend(layer.parameters())\n",
    "\n",
    "        return params"
   ]
  },
  {
   "cell_type": "code",
   "execution_count": 39,
   "id": "58bc776c-ec26-46d0-8360-cefabfcf3f82",
   "metadata": {},
   "outputs": [
    {
     "ename": "ValueError",
     "evalue": "The truth value of an array with more than one element is ambiguous. Use a.any() or a.all()",
     "output_type": "error",
     "traceback": [
      "\u001b[0;31m---------------------------------------------------------------------------\u001b[0m",
      "\u001b[0;31mValueError\u001b[0m                                Traceback (most recent call last)",
      "Cell \u001b[0;32mIn[39], line 13\u001b[0m\n\u001b[1;32m      6\u001b[0m net \u001b[38;5;241m=\u001b[39m Sequential(\n\u001b[1;32m      7\u001b[0m     Linear(\u001b[38;5;241m4\u001b[39m, \u001b[38;5;241m4\u001b[39m),\n\u001b[1;32m      8\u001b[0m     ReLU(),\n\u001b[1;32m      9\u001b[0m     Linear(\u001b[38;5;241m4\u001b[39m, \u001b[38;5;241m1\u001b[39m),\n\u001b[1;32m     10\u001b[0m )\n\u001b[1;32m     12\u001b[0m x \u001b[38;5;241m=\u001b[39m np\u001b[38;5;241m.\u001b[39mrandom\u001b[38;5;241m.\u001b[39mrandn(\u001b[38;5;241m2\u001b[39m, \u001b[38;5;241m4\u001b[39m)    \u001b[38;5;66;03m# batch=2\u001b[39;00m\n\u001b[0;32m---> 13\u001b[0m y \u001b[38;5;241m=\u001b[39m net(x)\n\u001b[1;32m     14\u001b[0m \u001b[38;5;28;01massert\u001b[39;00m y\u001b[38;5;241m.\u001b[39mshape \u001b[38;5;241m==\u001b[39m (\u001b[38;5;241m2\u001b[39m, \u001b[38;5;241m1\u001b[39m)\n\u001b[1;32m     16\u001b[0m \u001b[38;5;66;03m# params count check (Linear has W: out*in, b: out)\u001b[39;00m\n",
      "Cell \u001b[0;32mIn[38], line 7\u001b[0m, in \u001b[0;36mSequential.__call__\u001b[0;34m(self, x)\u001b[0m\n\u001b[1;32m      5\u001b[0m \u001b[38;5;28;01mdef\u001b[39;00m\u001b[38;5;250m \u001b[39m\u001b[38;5;21m__call__\u001b[39m(\u001b[38;5;28mself\u001b[39m, x):\n\u001b[1;32m      6\u001b[0m     \u001b[38;5;28;01mfor\u001b[39;00m layer \u001b[38;5;129;01min\u001b[39;00m \u001b[38;5;28mself\u001b[39m\u001b[38;5;241m.\u001b[39mlayers:\n\u001b[0;32m----> 7\u001b[0m         x \u001b[38;5;241m=\u001b[39m layer(x)\n\u001b[1;32m      8\u001b[0m     \u001b[38;5;28;01mreturn\u001b[39;00m x\n",
      "Cell \u001b[0;32mIn[36], line 3\u001b[0m, in \u001b[0;36mReLU.__call__\u001b[0;34m(self, x)\u001b[0m\n\u001b[1;32m      2\u001b[0m \u001b[38;5;28;01mdef\u001b[39;00m\u001b[38;5;250m \u001b[39m\u001b[38;5;21m__call__\u001b[39m(\u001b[38;5;28mself\u001b[39m, x):\n\u001b[0;32m----> 3\u001b[0m     out \u001b[38;5;241m=\u001b[39m \u001b[38;5;28mmax\u001b[39m(\u001b[38;5;241m0\u001b[39m, x)\n\u001b[1;32m      4\u001b[0m     \u001b[38;5;28;01mreturn\u001b[39;00m out\n",
      "\u001b[0;31mValueError\u001b[0m: The truth value of an array with more than one element is ambiguous. Use a.any() or a.all()"
     ]
    }
   ],
   "source": [
    "# activations\n",
    "relu = ReLU()\n",
    "# assert np.all(relu(np.array([-2.0, 0.0, 3.0])) == np.array([0.0, 0.0, 3.0]))\n",
    "\n",
    "# stack: Linear -> ReLU -> Linear\n",
    "net = Sequential(\n",
    "    Linear(4, 4),\n",
    "    ReLU(),\n",
    "    Linear(4, 1),\n",
    ")\n",
    "\n",
    "x = np.random.randn(2, 4)    # batch=2\n",
    "y = net(x)\n",
    "assert y.shape == (2, 1)\n",
    "\n",
    "# params count check (Linear has W: out*in, b: out)\n",
    "pcounts = [p.size for p in net.parameters()]\n",
    "assert sum(pcounts) == (4*4 + 4) + (1*4 + 1)\n",
    "\n",
    "# summary (no exact string assert; just call it)\n",
    "net.summary((2, 4))\n"
   ]
  }
 ],
 "metadata": {
  "kernelspec": {
   "display_name": "Python 3 (ipykernel)",
   "language": "python",
   "name": "python3"
  },
  "language_info": {
   "codemirror_mode": {
    "name": "ipython",
    "version": 3
   },
   "file_extension": ".py",
   "mimetype": "text/x-python",
   "name": "python",
   "nbconvert_exporter": "python",
   "pygments_lexer": "ipython3",
   "version": "3.13.5"
  }
 },
 "nbformat": 4,
 "nbformat_minor": 5
}
