{
 "cells": [
  {
   "cell_type": "code",
   "execution_count": 4,
   "id": "17c675ec-efd3-470c-96a9-04e196fe1dbd",
   "metadata": {},
   "outputs": [],
   "source": [
    "# This script holds the Polynomial Class implementation to handle polynomial equations arthimetics (+, -, *, =), "
   ]
  },
  {
   "cell_type": "code",
   "execution_count": 34,
   "id": "955d98c5-5f83-47df-bd3e-6639a542f91b",
   "metadata": {},
   "outputs": [],
   "source": [
    "from __future__ import annotations\n",
    "from IPython.display import Math, display"
   ]
  },
  {
   "cell_type": "code",
   "execution_count": 75,
   "id": "63a1c288-e288-4c13-8884-cb646c7bbb4b",
   "metadata": {},
   "outputs": [],
   "source": [
    "class Polynomial:\n",
    "    def __init__(self, coefs: list[int, float]):\n",
    "        self.coefs = [float(i) for i in coefs] if not isinstance(coefs, float) else coefs\n",
    "        self._trim()\n",
    "    # --------- utils ---------\n",
    "    @property\n",
    "    def degree(self):\n",
    "        if len(self.coefs) == 0 and self.coefs[1] == -1:\n",
    "            return -1\n",
    "        return len(self.coefs) - 1\n",
    "\n",
    "    def _trim(self):\n",
    "        while len(self.coefs) > 1 and abs(self.coefs[-1]) == 0.0:\n",
    "            self.coefs.pop()\n",
    "\n",
    "        \n",
    "    def __repr__(self):\n",
    "        return f\"Polynomial({self.coefs})\"\n",
    "\n",
    "    def __eq__(self, other: Polynomial):\n",
    "        other = other if isinstance(other, Polynomial) else Polynomial(other)\n",
    "        return self.coefs == other.coefs\n",
    "    \n",
    "    # --------- Core Functionality ---------\n",
    "    # Horner's Method\n",
    "    def __call__(self, num):\n",
    "        num = float(num)\n",
    "        acc = 0\n",
    "\n",
    "        for c in reversed(self.coefs):\n",
    "            acc = acc * num + c\n",
    "        return acc\n",
    "    \n",
    "    def __add__(self, other: Polynomial):\n",
    "        other =  other if isinstance(other, Polynomial) else Polynomial(other)\n",
    "        out = []\n",
    "        for c1, c2 in zip(self.coefs, other.coefs):\n",
    "            out.append(c1 + c2)\n",
    "\n",
    "        return Polynomial(out)\n",
    "    \n",
    "    def __sub__(self, other: Polynomial):\n",
    "        other =  other if isinstance(other, Polynomial) else Polynomial(other)\n",
    "        out = []\n",
    "        for c1, c2 in zip(self.coefs, other.coefs):\n",
    "            out.append(c1 - c2)\n",
    "\n",
    "        return Polynomial(out)\n",
    "    \n",
    "    def __mul__(self, other: Polynomial):\n",
    "        # scal*poly\n",
    "        if isinstance(other, (int, float)):\n",
    "            return Polynomial([other * x for x in self.coefs])\n",
    "            \n",
    "        other =  other if isinstance(other, Polynomial) else Polynomial(other)\n",
    "        if self.degree == -1 or other.degree == -1:\n",
    "            return Polynomial([0.0])\n",
    "            \n",
    "        out = []\n",
    "        for c1, c2 in zip(self.coefs, other.coefs):\n",
    "            out.append(c1 * c2)\n",
    "\n",
    "        return Polynomial(out)\n",
    "\n",
    "    def __rmul__(self, other):\n",
    "        if isinstance(other, (int, float)):\n",
    "            return self * other\n",
    "        return NotImplemented\n",
    "\n",
    "    # --------- derivative ---------\n",
    "    def deriv(self, k: int = 1):\n",
    "        '''Find the derivtive of the polynomial expression, k denotes the order of derivative'''\n",
    "        if k < 0:\n",
    "            raise ValueError('k cannot be 0')\n",
    "\n",
    "        for _ in range(k):\n",
    "            if self.degree <= 0.0:\n",
    "                return Polynomial([0.0])\n",
    "\n",
    "            \n",
    "    \n",
    "        "
   ]
  },
  {
   "cell_type": "code",
   "execution_count": 76,
   "id": "c965c754-9abb-42d3-875f-cd251efb4065",
   "metadata": {
    "scrolled": true
   },
   "outputs": [
    {
     "name": "stdout",
     "output_type": "stream",
     "text": [
      "15.0 degree: 2\n"
     ]
    }
   ],
   "source": [
    "p = Polynomial([3, 2, 2, 0, 0]) # 2x^2 + 2x + 3 \n",
    "print(p(2), f'degree: {p.degree}' ) # 15, 2  \n",
    "#p  gives an error - needs to happen inplace (but print is really pretty with Math())"
   ]
  },
  {
   "cell_type": "code",
   "execution_count": 77,
   "id": "bd830ff7-0b37-4eb7-8269-98b6a65e9be9",
   "metadata": {},
   "outputs": [
    {
     "name": "stdout",
     "output_type": "stream",
     "text": [
      "Polynomial([7.0, 5.0, 4.0])\n",
      "Polynomial([-1.0, -1.0])\n",
      "Polynomial([12.0, 6.0, 4.0])\n"
     ]
    }
   ],
   "source": [
    "p = Polynomial([3, 2, 2]) \n",
    "q = Polynomial([4, 3, 2])\n",
    "\n",
    "print(p + q)\n",
    "print(p - q)\n",
    "print(p * q)"
   ]
  },
  {
   "cell_type": "code",
   "execution_count": 78,
   "id": "a8b706df-a229-4971-9d9b-c946946a5ed7",
   "metadata": {},
   "outputs": [
    {
     "data": {
      "text/plain": [
       "False"
      ]
     },
     "execution_count": 78,
     "metadata": {},
     "output_type": "execute_result"
    }
   ],
   "source": [
    "r = Polynomial([3, 2, 2]) \n",
    "p = Polynomial([3, 3, 2]) \n",
    "\n",
    "p == r"
   ]
  },
  {
   "cell_type": "code",
   "execution_count": 81,
   "id": "b3461847-bc2a-4cdb-beb6-294094dd039d",
   "metadata": {},
   "outputs": [
    {
     "data": {
      "text/plain": [
       "True"
      ]
     },
     "execution_count": 81,
     "metadata": {},
     "output_type": "execute_result"
    }
   ],
   "source": [
    "r * 2 == 2 * r # works"
   ]
  },
  {
   "cell_type": "code",
   "execution_count": null,
   "id": "5aa7e5e5-35d4-4c1f-b9cc-89c7b622e973",
   "metadata": {},
   "outputs": [],
   "source": []
  }
 ],
 "metadata": {
  "kernelspec": {
   "display_name": "Python 3 (ipykernel)",
   "language": "python",
   "name": "python3"
  },
  "language_info": {
   "codemirror_mode": {
    "name": "ipython",
    "version": 3
   },
   "file_extension": ".py",
   "mimetype": "text/x-python",
   "name": "python",
   "nbconvert_exporter": "python",
   "pygments_lexer": "ipython3",
   "version": "3.13.5"
  }
 },
 "nbformat": 4,
 "nbformat_minor": 5
}
