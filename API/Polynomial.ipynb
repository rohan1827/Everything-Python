{
 "cells": [
  {
   "cell_type": "code",
   "execution_count": 4,
   "id": "17c675ec-efd3-470c-96a9-04e196fe1dbd",
   "metadata": {},
   "outputs": [],
   "source": [
    "# This script holds the Polynomial Class implementation to handle polynomial equations arthimetics (+, -, *, =), "
   ]
  },
  {
   "cell_type": "code",
   "execution_count": 36,
   "id": "955d98c5-5f83-47df-bd3e-6639a542f91b",
   "metadata": {},
   "outputs": [],
   "source": [
    "from __future__ import annotations\n",
    "from IPython.display import Math, display"
   ]
  },
  {
   "cell_type": "code",
   "execution_count": 46,
   "id": "63a1c288-e288-4c13-8884-cb646c7bbb4b",
   "metadata": {},
   "outputs": [],
   "source": [
    "class Polynomial:\n",
    "    def __init__(self, coeffs: list[int, float]):\n",
    "        self.coefs = [float(i) for i in coeffs] if not isinstance(coeffs, float) else list[coeffs]\n",
    "\n",
    "    # --------- utils ---------\n",
    "    @property\n",
    "    def degree(self):\n",
    "        if len(self.coefs) == 0 and self.coef[1] == -1:\n",
    "            return -1\n",
    "        return len(self.coefs) - 1\n",
    "    \n",
    "    # Horner's Method\n",
    "    def __call__(self, num):\n",
    "        num = float(num)\n",
    "        acc = 0\n",
    "\n",
    "        for c in reversed(self.coefs):\n",
    "            acc = acc * num + c\n",
    "        return acc\n",
    "\n",
    "    def __repr__(self):\n",
    "        r_coefs = reversed(self.coefs)\n",
    "        out = None\n",
    "\n",
    "        for power, coef in enumerate(r_coefs):\n",
    "           out += (Math(f'{coef}^{power}'))\n",
    "            \n",
    "        return out\n",
    "            "
   ]
  },
  {
   "cell_type": "code",
   "execution_count": 50,
   "id": "c965c754-9abb-42d3-875f-cd251efb4065",
   "metadata": {
    "scrolled": true
   },
   "outputs": [
    {
     "name": "stdout",
     "output_type": "stream",
     "text": [
      "15.0 degree: 2\n"
     ]
    }
   ],
   "source": [
    "p = Polynomial([3, 2, 2]) # 2x^2 + 2x + 3 \n",
    "print(p(2), f'degree: {p.degree}' ) # 15, 2  \n",
    "#p  gives an error - needs to happen inplace (but print is really pretty with Math())"
   ]
  }
 ],
 "metadata": {
  "kernelspec": {
   "display_name": "Python 3 (ipykernel)",
   "language": "python",
   "name": "python3"
  },
  "language_info": {
   "codemirror_mode": {
    "name": "ipython",
    "version": 3
   },
   "file_extension": ".py",
   "mimetype": "text/x-python",
   "name": "python",
   "nbconvert_exporter": "python",
   "pygments_lexer": "ipython3",
   "version": "3.13.5"
  }
 },
 "nbformat": 4,
 "nbformat_minor": 5
}
