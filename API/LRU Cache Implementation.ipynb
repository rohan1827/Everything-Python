{
 "cells": [
  {
   "cell_type": "code",
   "execution_count": 1,
   "id": "f893db42-f0f1-45ff-a6bd-84bec75cafbc",
   "metadata": {},
   "outputs": [],
   "source": [
    "# implementation of LRU (least recently used cache) using linked lists approach."
   ]
  },
  {
   "cell_type": "code",
   "execution_count": 2,
   "id": "1b112fce-9ea4-4d58-833f-36b678b92e89",
   "metadata": {},
   "outputs": [],
   "source": [
    "from __future__ import annotations"
   ]
  },
  {
   "cell_type": "code",
   "execution_count": 3,
   "id": "3d4ec175-32d8-450b-b52e-337171794352",
   "metadata": {},
   "outputs": [],
   "source": [
    "class Node:\n",
    "    def __init__(self, key, value):\n",
    "        self.key = key \n",
    "        self.value = value\n",
    "        self.prev = None\n",
    "        self.next = None\n",
    "\n",
    "    def __repr__(self):\n",
    "        return f\"{self.key}:{self.value}\"\n",
    "        "
   ]
  },
  {
   "cell_type": "code",
   "execution_count": 56,
   "id": "177a62d6-7b0e-4472-95d9-d51703f2cc5c",
   "metadata": {},
   "outputs": [],
   "source": [
    "class LRUCache:\n",
    "    def __init__(self, capacity):\n",
    "        self.capacity = capacity\n",
    "        assert self.capacity > 0; 'Capacity must be 1 atleast, cannot be zero'\n",
    "        self.head = Node(0, 0)\n",
    "        self.tail = Node(0, 0)\n",
    "        self.head.next = self.tail\n",
    "        self.tail.prev = self.head\n",
    "        self._cache = {}\n",
    "\n",
    "    def __repr__(self):\n",
    "        nodes = []\n",
    "        \n",
    "        curr = self.head.next\n",
    "        while curr != self.tail:\n",
    "            nodes.append(f'[{curr.key}:{curr.value}]')\n",
    "            curr = curr.next\n",
    "        return '<->'.join(nodes)\n",
    "\n",
    "    # -------- Helpers --------\n",
    "    def _insert_first(self, node: Node):\n",
    "        '''Adds a node at the start of the chain'''\n",
    "        node.prev = self.head\n",
    "        node.next = self.head.next\n",
    "        self.head.next.prev = node\n",
    "        self.head.next = node\n",
    "        self._cache[node.key] = node\n",
    "        \n",
    "    def _remove(self, node: Node):\n",
    "        '''Removes a specific node from the chain'''\n",
    "        if node is self.head or node is self.tail:\n",
    "            return \n",
    "        prev_node = node.prev\n",
    "        next_node = node.next\n",
    "        if prev_node == None or next_node == None:\n",
    "            raise ValueError('None node at prev or next')\n",
    "        prev_node.next = next_node\n",
    "        next_node.prev = prev_node\n",
    "        node.prev = node.next = None\n",
    "\n",
    "    def _remove_last(self):\n",
    "        '''Removes the last node from the chain'''\n",
    "        if self.head.next == self.tail:\n",
    "            return None\n",
    "        last = self.tail.prev \n",
    "        self._remove(last)\n",
    "        return last\n",
    "\n",
    "    # -------- Main Functions --------\n",
    "    def get(self, key):\n",
    "        '''Main get action, where the node with the key value \"key\" is fetched and upgraded to MRU position'''\n",
    "        node = self._cache[key]\n",
    "        if node is None:\n",
    "            return None\n",
    "        self._remove(node)          # unlink Node\n",
    "        self._insert_first(node)    # add to MRU\n",
    "        return node.value\n",
    "\n",
    "    def put(self, key, value):\n",
    "        '''Put/Update value at key position in cache, remove LRU (self.tail) on overflow'''\n",
    "\n",
    "        if key in self._cache:\n",
    "            node = self._cache[key]\n",
    "            node.value = value       # update\n",
    "            self._remove(node)       # unlink Node\n",
    "            self._insert_first(node) # add to MRU\n",
    "\n",
    "        node = Node(key, value)\n",
    "        self._insert_first(node)\n",
    "        self._cache[key] = node\n",
    "\n",
    "        # handling overflow\n",
    "        if len(self._cache) > self.capacity:\n",
    "            lru = self._remove_last()\n",
    "            del self._cache[lru.key]\n",
    "        "
   ]
  },
  {
   "cell_type": "markdown",
   "id": "e0481d6f-f017-4134-be70-2adb88a25101",
   "metadata": {},
   "source": [
    "## Testing API"
   ]
  },
  {
   "cell_type": "code",
   "execution_count": 49,
   "id": "fa8ede4f-d741-4465-b07d-72babefb588f",
   "metadata": {},
   "outputs": [
    {
     "data": {
      "text/plain": [
       "[3:C]<->[2:B]<->[1:A]"
      ]
     },
     "execution_count": 49,
     "metadata": {},
     "output_type": "execute_result"
    }
   ],
   "source": [
    "x = LRUCache(capacity=2)\n",
    "x._insert_first(Node(1, 'A'))\n",
    "x._insert_first(Node(2, 'B'))\n",
    "x._insert_first(Node(3, 'C'))\n",
    "x"
   ]
  },
  {
   "cell_type": "code",
   "execution_count": 50,
   "id": "878338c1-4f1a-43ab-96de-8385058d6af3",
   "metadata": {},
   "outputs": [
    {
     "data": {
      "text/plain": [
       "[3:C]<->[2:B]"
      ]
     },
     "execution_count": 50,
     "metadata": {},
     "output_type": "execute_result"
    }
   ],
   "source": [
    "n = x._cache[1]\n",
    "x._remove(n)\n",
    "x"
   ]
  },
  {
   "cell_type": "code",
   "execution_count": 51,
   "id": "032e81e4-8b76-4e3c-bc28-0973c85f84c0",
   "metadata": {},
   "outputs": [
    {
     "data": {
      "text/plain": [
       "{1: 1:A, 2: 2:B, 3: 3:C}"
      ]
     },
     "execution_count": 51,
     "metadata": {},
     "output_type": "execute_result"
    }
   ],
   "source": [
    "x._cache"
   ]
  },
  {
   "cell_type": "code",
   "execution_count": 52,
   "id": "7b557591-b8bd-4158-b5c0-d801cd7dbd09",
   "metadata": {},
   "outputs": [
    {
     "data": {
      "text/plain": [
       "2:B"
      ]
     },
     "execution_count": 52,
     "metadata": {},
     "output_type": "execute_result"
    }
   ],
   "source": [
    "key = 2\n",
    "x._cache[2] "
   ]
  },
  {
   "cell_type": "code",
   "execution_count": 53,
   "id": "95474347-f22e-4344-9031-6b4578d87983",
   "metadata": {},
   "outputs": [
    {
     "data": {
      "text/plain": [
       "[2:B]<->[3:C]"
      ]
     },
     "execution_count": 53,
     "metadata": {},
     "output_type": "execute_result"
    }
   ],
   "source": [
    "x.get(key)\n",
    "x"
   ]
  },
  {
   "cell_type": "code",
   "execution_count": 54,
   "id": "5eff3d28-0fe2-4f8f-b420-2881ec27f850",
   "metadata": {},
   "outputs": [],
   "source": [
    "x.put(4, 'R')"
   ]
  },
  {
   "cell_type": "code",
   "execution_count": 55,
   "id": "cac8e712-e57b-4f7b-b313-38b823d9acf6",
   "metadata": {},
   "outputs": [
    {
     "data": {
      "text/plain": [
       "[4:R]<->[2:B]"
      ]
     },
     "execution_count": 55,
     "metadata": {},
     "output_type": "execute_result"
    }
   ],
   "source": [
    "x"
   ]
  },
  {
   "cell_type": "markdown",
   "id": "d692b214-3c66-43c3-81f4-e8053b44f3ed",
   "metadata": {},
   "source": [
    "## SANITY CHECKING"
   ]
  },
  {
   "cell_type": "code",
   "execution_count": 63,
   "id": "8fef287c-9ed0-45b0-857c-203305ab8d15",
   "metadata": {},
   "outputs": [
    {
     "name": "stdout",
     "output_type": "stream",
     "text": [
      "[3:c]<->[1:a] evicts 2\n",
      "[4:d]<->[3:c] evicted 1\n",
      "OK: [4:d]<->[3:c]\n"
     ]
    }
   ],
   "source": [
    "c = LRUCache(2)\n",
    "c.put(1, \"a\"); c.put(2, \"b\")\n",
    "assert c.get(1) == \"a\"        # 1 is MRU\n",
    "c.put(3, \"c\")                 # evicts 2\n",
    "print(c, 'evicts 2')\n",
    "assert c.get(1) == \"a\"\n",
    "assert c.get(3) == \"c\"\n",
    "c.put(4, \"d\")                 # evicts 1\n",
    "print(c, 'evicted 1')\n",
    "assert c.get(3) == \"c\"\n",
    "assert c.get(4) == \"d\"\n",
    "print(\"OK:\", c)"
   ]
  },
  {
   "cell_type": "code",
   "execution_count": null,
   "id": "6a944427-ce46-4e18-91f5-2adb453c3692",
   "metadata": {},
   "outputs": [],
   "source": []
  }
 ],
 "metadata": {
  "kernelspec": {
   "display_name": "Python 3 (ipykernel)",
   "language": "python",
   "name": "python3"
  },
  "language_info": {
   "codemirror_mode": {
    "name": "ipython",
    "version": 3
   },
   "file_extension": ".py",
   "mimetype": "text/x-python",
   "name": "python",
   "nbconvert_exporter": "python",
   "pygments_lexer": "ipython3",
   "version": "3.13.5"
  }
 },
 "nbformat": 4,
 "nbformat_minor": 5
}
