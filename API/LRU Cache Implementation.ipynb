{
 "cells": [
  {
   "cell_type": "code",
   "execution_count": 1,
   "id": "f893db42-f0f1-45ff-a6bd-84bec75cafbc",
   "metadata": {},
   "outputs": [],
   "source": [
    "# implementation of LRU (least recently used cache) using linked lists approach."
   ]
  },
  {
   "cell_type": "code",
   "execution_count": 88,
   "id": "1b112fce-9ea4-4d58-833f-36b678b92e89",
   "metadata": {},
   "outputs": [],
   "source": [
    "from __future__ import annotations"
   ]
  },
  {
   "cell_type": "code",
   "execution_count": 2,
   "id": "3d4ec175-32d8-450b-b52e-337171794352",
   "metadata": {},
   "outputs": [],
   "source": [
    "class Node:\n",
    "    def __init__(self, key, value):\n",
    "        self.key = key \n",
    "        self.value = value\n",
    "        self.prev = None\n",
    "        self.next = None\n",
    "\n",
    "    def __repr__(self):\n",
    "        return f\"{self.key}:{self.value}\"\n",
    "        "
   ]
  },
  {
   "cell_type": "code",
   "execution_count": 106,
   "id": "177a62d6-7b0e-4472-95d9-d51703f2cc5c",
   "metadata": {},
   "outputs": [],
   "source": [
    "class LRUCache:\n",
    "    def __init__(self):\n",
    "        self.head = Node(0, 0)\n",
    "        self.tail = Node(0, 0)\n",
    "        self.head.next = self.tail\n",
    "        self.tail.prev = self.head\n",
    "        self._cache = {}\n",
    "\n",
    "    def __repr__(self):\n",
    "        nodes = []\n",
    "        \n",
    "        curr = self.head.next\n",
    "        while curr != self.tail:\n",
    "            nodes.append(f'[{curr.key}:{curr.value}]')\n",
    "            curr = curr.next\n",
    "        return '<->'.join(nodes)\n",
    "\n",
    "    # -------- Helpers --------\n",
    "    def _insert_first(self, node: Node):\n",
    "        '''Adds a node at the start of the chain'''\n",
    "        node.prev = self.head\n",
    "        node.next = self.head.next\n",
    "        self.head.next.prev = node\n",
    "        self.head.next = node\n",
    "        self._cache[node.key] = node\n",
    "        \n",
    "    def _remove(self, node: Node):\n",
    "        '''Removes a specific node from the chain'''\n",
    "        if node is self.head or node is self.tail:\n",
    "            return \n",
    "        prev_node = node.prev\n",
    "        next_node = node.next\n",
    "        if prev_node == None or next_node == None:\n",
    "            raise ValueError('None node at prev or next')\n",
    "        prev_node.next = next_node\n",
    "        next_node.prev = prev_node\n",
    "\n",
    "    def _remove_last(self):\n",
    "        '''Removes the last node from the chain'''\n",
    "        if self.head.next == self.tail:\n",
    "            return None\n",
    "        last = self.tail.prev \n",
    "        self.remove(last)\n",
    "        return last"
   ]
  },
  {
   "cell_type": "code",
   "execution_count": 107,
   "id": "fa8ede4f-d741-4465-b07d-72babefb588f",
   "metadata": {},
   "outputs": [
    {
     "data": {
      "text/plain": [
       "[3:C]<->[2:B]<->[1:A]"
      ]
     },
     "execution_count": 107,
     "metadata": {},
     "output_type": "execute_result"
    }
   ],
   "source": [
    "x = LRUCache()\n",
    "x._insert_first(Node(1, 'A'))\n",
    "x._insert_first(Node(2, 'B'))\n",
    "x._insert_first(Node(3, 'C'))\n",
    "x"
   ]
  },
  {
   "cell_type": "code",
   "execution_count": 108,
   "id": "878338c1-4f1a-43ab-96de-8385058d6af3",
   "metadata": {},
   "outputs": [
    {
     "data": {
      "text/plain": [
       "{1: 1:A, 2: 2:B, 3: 3:C}"
      ]
     },
     "execution_count": 108,
     "metadata": {},
     "output_type": "execute_result"
    }
   ],
   "source": [
    "x._cache"
   ]
  },
  {
   "cell_type": "code",
   "execution_count": null,
   "id": "4065e5ee-dd97-49a8-a225-ad058111795f",
   "metadata": {
    "scrolled": true
   },
   "outputs": [],
   "source": [
    "x._remove(x._remove(x._cache.get(0)))"
   ]
  }
 ],
 "metadata": {
  "kernelspec": {
   "display_name": "Python 3 (ipykernel)",
   "language": "python",
   "name": "python3"
  },
  "language_info": {
   "codemirror_mode": {
    "name": "ipython",
    "version": 3
   },
   "file_extension": ".py",
   "mimetype": "text/x-python",
   "name": "python",
   "nbconvert_exporter": "python",
   "pygments_lexer": "ipython3",
   "version": "3.13.5"
  }
 },
 "nbformat": 4,
 "nbformat_minor": 5
}
