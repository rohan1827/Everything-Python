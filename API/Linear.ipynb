{
 "cells": [
  {
   "cell_type": "code",
   "execution_count": 1,
   "id": "e3326ef8-8c3b-4ee6-b5f1-5024a80b671e",
   "metadata": {},
   "outputs": [],
   "source": [
    "import numpy as np\n",
    "from __future__ import annotations"
   ]
  },
  {
   "cell_type": "code",
   "execution_count": 62,
   "id": "58be551c-7ed9-44ce-b3eb-f7ef5693f0f2",
   "metadata": {},
   "outputs": [],
   "source": [
    "class Linear:\n",
    "    def __init__(self, in_features: int, out_features: int):\n",
    "        # xavier-like normalization\n",
    "        limit = 1/np.sqrt(in_features)\n",
    "        self._w = np.random.uniform(-limit, limit, (in_features, out_features))\n",
    "        self._b = np.zeros(out_features)\n",
    "        \n",
    "    def __call__(self, X):\n",
    "        return X @ self._w + self._b\n",
    "\n",
    "    def parameters(self):\n",
    "        return [self._w , self._b]"
   ]
  },
  {
   "cell_type": "code",
   "execution_count": 63,
   "id": "b1362b56-29b9-40ce-9243-d9229704a19f",
   "metadata": {},
   "outputs": [
    {
     "data": {
      "text/plain": [
       "[array([[-0.42864582,  0.12948525, -0.06479998,  0.02129638, -0.34589192],\n",
       "        [ 0.18224744,  0.02328276,  0.28296725, -0.05779805, -0.03831785],\n",
       "        [ 0.0377056 ,  0.06184412,  0.05188553, -0.4359489 ,  0.38155834],\n",
       "        [ 0.16753504, -0.08268508, -0.35016735, -0.06973009,  0.19491021]]),\n",
       " array([0., 0., 0., 0., 0.])]"
      ]
     },
     "execution_count": 63,
     "metadata": {},
     "output_type": "execute_result"
    }
   ],
   "source": [
    "x = np.random.randint(0, 10, (10, 4))\n",
    "layer_1 = Linear(in_features=4, out_features=5)\n",
    "layer_1.parameters()"
   ]
  },
  {
   "cell_type": "code",
   "execution_count": 64,
   "id": "53c7a521-7fb4-4e60-9c8c-d6e958f1fc98",
   "metadata": {},
   "outputs": [],
   "source": [
    "class MLP:\n",
    "    def __init__(self, in_features: int, layer_outfeatures: List):\n",
    "        z = [in_features] + layer_outfeatures\n",
    "        self.layers = [Linear(z[i], z[i+1]) for i in range(len(layer_outfeatures))]\n",
    "\n",
    "    def __call__(self, x):\n",
    "        for layer in self.layers:\n",
    "            x = layer(x)\n",
    "        return x"
   ]
  },
  {
   "cell_type": "code",
   "execution_count": 65,
   "id": "037d9818-390f-4626-8522-a74442ab9d37",
   "metadata": {},
   "outputs": [
    {
     "data": {
      "text/plain": [
       "array([-0.69190133])"
      ]
     },
     "execution_count": 65,
     "metadata": {},
     "output_type": "execute_result"
    }
   ],
   "source": [
    "x = [3.0, 2.2, 1.3, 4.5]\n",
    "x = np.asarray(x)\n",
    "layers = MLP(4, [4, 4, 1])\n",
    "layers(x)"
   ]
  }
 ],
 "metadata": {
  "kernelspec": {
   "display_name": "Python 3 (ipykernel)",
   "language": "python",
   "name": "python3"
  },
  "language_info": {
   "codemirror_mode": {
    "name": "ipython",
    "version": 3
   },
   "file_extension": ".py",
   "mimetype": "text/x-python",
   "name": "python",
   "nbconvert_exporter": "python",
   "pygments_lexer": "ipython3",
   "version": "3.13.5"
  }
 },
 "nbformat": 4,
 "nbformat_minor": 5
}
