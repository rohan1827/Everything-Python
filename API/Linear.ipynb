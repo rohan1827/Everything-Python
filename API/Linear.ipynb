{
 "cells": [
  {
   "cell_type": "code",
   "execution_count": 1,
   "id": "e3326ef8-8c3b-4ee6-b5f1-5024a80b671e",
   "metadata": {},
   "outputs": [],
   "source": [
    "import numpy as np\n",
    "from __future__ import annotations"
   ]
  },
  {
   "cell_type": "code",
   "execution_count": 89,
   "id": "58be551c-7ed9-44ce-b3eb-f7ef5693f0f2",
   "metadata": {},
   "outputs": [],
   "source": [
    "class Linear:\n",
    "    def __init__(self, in_features: int, out_features: int):\n",
    "        # xavier-like normalization\n",
    "        limit = 1/np.sqrt(in_features)\n",
    "        self._w = np.random.uniform(-limit, limit, (in_features, out_features))\n",
    "        self._b = np.zeros(out_features)\n",
    "        \n",
    "    def __call__(self, X):\n",
    "        return X @ self._w + self._b\n",
    "\n",
    "    def parameters(self):\n",
    "        return [self._w , self._b]"
   ]
  },
  {
   "cell_type": "code",
   "execution_count": 90,
   "id": "b1362b56-29b9-40ce-9243-d9229704a19f",
   "metadata": {},
   "outputs": [
    {
     "data": {
      "text/plain": [
       "[array([[ 0.09261279, -0.08939693,  0.39080986, -0.36968964, -0.38725701],\n",
       "        [ 0.1373715 ,  0.49090952, -0.34931418,  0.3214125 ,  0.04609815],\n",
       "        [ 0.04857587, -0.45372318,  0.26719328,  0.1440953 , -0.36884468],\n",
       "        [ 0.37208482, -0.21292918,  0.09326561, -0.13508157, -0.41063224]]),\n",
       " array([0., 0., 0., 0., 0.])]"
      ]
     },
     "execution_count": 90,
     "metadata": {},
     "output_type": "execute_result"
    }
   ],
   "source": [
    "x = np.random.randint(0, 10, (10, 4))\n",
    "layer_1 = Linear(in_features=4, out_features=5)\n",
    "layer_1.parameters()"
   ]
  },
  {
   "cell_type": "code",
   "execution_count": 198,
   "id": "53c7a521-7fb4-4e60-9c8c-d6e958f1fc98",
   "metadata": {},
   "outputs": [],
   "source": [
    "class MLP:\n",
    "    def __init__(self, in_features: int, layer_outfeatures: List):\n",
    "        z = [in_features] + layer_outfeatures\n",
    "        self.layers = [Linear(z[i], z[i+1]) for i in range(len(layer_outfeatures))]\n",
    "\n",
    "    def __call__(self, x):\n",
    "        for layer in self.layers:\n",
    "            x = layer(x)\n",
    "        return x\n",
    "\n",
    "    def parameters(self):\n",
    "        count = 0\n",
    "        for layer in self.layers:\n",
    "            count += sum([len(i) for i in layer.parameters()])\n",
    "        return count\n",
    "\n",
    "    def summary(self, sample: array):\n",
    "        layers = self.layers\n",
    "        header = ['Name', 'Type', 'Shape', 'Trainable', 'Param #']\n",
    "        data = [] \n",
    "        footer = {'Total Params': 0, 'Trainable': 0, 'Non-Trainable': 0}\n",
    "        \n",
    "        for n, l in enumerate(layers):\n",
    "            op = l(sample)\n",
    "            name = layer_1.__class__.__name__\n",
    "            data.append([f'Layer_{n+1}', name, op.shape, 'True', self.parameters()])\n",
    "            footer['Total Params'] += self.parameters()\n",
    "            footer['Trainable'] += self.parameters()\n",
    "            footer['Non-Trainable'] += footer['Total Params'] - footer['Trainable']\n",
    "\n",
    "        # printing\n",
    "        col_widths = [max(len(str(row[i])) for row in [header] + data) for i in range(len(header))]\n",
    "        # header\n",
    "        print(\"  \".join(str(header[i]).ljust(col_widths[i]) for i in range(len(header))))\n",
    "        print(\"-\" * (sum(col_widths) + 2 * (len(header) - 1)))\n",
    "        # data\n",
    "        for row in data:\n",
    "            print(\"  \".join(str(item).ljust(col_widths[i]) for i, item in enumerate(row)))\n",
    "        print(\"-\" * (sum(col_widths) + 2 * (len(header) - 1)))\n",
    "        # footer\n",
    "        for x in footer.items():\n",
    "            print(x[0],':', x[1])\n",
    "            "
   ]
  },
  {
   "cell_type": "code",
   "execution_count": 199,
   "id": "037d9818-390f-4626-8522-a74442ab9d37",
   "metadata": {},
   "outputs": [
    {
     "data": {
      "text/plain": [
       "array([-0.06603216])"
      ]
     },
     "execution_count": 199,
     "metadata": {},
     "output_type": "execute_result"
    }
   ],
   "source": [
    "x = [3.0, 2.2, 1.3, 4.5]\n",
    "x = np.asarray(x)\n",
    "layers = MLP(4, [4, 4, 1])\n",
    "layers(x)"
   ]
  },
  {
   "cell_type": "code",
   "execution_count": 200,
   "id": "d8f73037-a3c7-4c49-9a9e-8416f787b4e6",
   "metadata": {},
   "outputs": [
    {
     "data": {
      "text/plain": [
       "21"
      ]
     },
     "execution_count": 200,
     "metadata": {},
     "output_type": "execute_result"
    }
   ],
   "source": [
    "layers.parameters()"
   ]
  },
  {
   "cell_type": "code",
   "execution_count": 201,
   "id": "ba7d53dc-987e-4120-83f5-d0cc63c8b4b6",
   "metadata": {},
   "outputs": [
    {
     "data": {
      "text/plain": [
       "[array([[ 0.09261279, -0.08939693,  0.39080986, -0.36968964, -0.38725701],\n",
       "        [ 0.1373715 ,  0.49090952, -0.34931418,  0.3214125 ,  0.04609815],\n",
       "        [ 0.04857587, -0.45372318,  0.26719328,  0.1440953 , -0.36884468],\n",
       "        [ 0.37208482, -0.21292918,  0.09326561, -0.13508157, -0.41063224]]),\n",
       " array([0., 0., 0., 0., 0.])]"
      ]
     },
     "execution_count": 201,
     "metadata": {},
     "output_type": "execute_result"
    }
   ],
   "source": [
    "layer_1.parameters()"
   ]
  },
  {
   "cell_type": "code",
   "execution_count": 197,
   "id": "cbaf5e70-db33-4cc3-9eea-b371e066a334",
   "metadata": {},
   "outputs": [
    {
     "name": "stdout",
     "output_type": "stream",
     "text": [
      "Name     Type    Shape  Trainable  Param #\n",
      "------------------------------------------\n",
      "Layer_1  Linear  (4,)   True       21     \n",
      "Layer_2  Linear  (4,)   True       21     \n",
      "Layer_3  Linear  (1,)   True       21     \n",
      "------------------------------------------\n",
      "Total Params : 63\n",
      "Trainable : 63\n",
      "Non-Trainable : 0\n"
     ]
    }
   ],
   "source": [
    "layers.summary(x)"
   ]
  },
  {
   "cell_type": "code",
   "execution_count": null,
   "id": "1fefbc62-9582-474a-8145-59f8ca8cf949",
   "metadata": {},
   "outputs": [],
   "source": []
  },
  {
   "cell_type": "code",
   "execution_count": null,
   "id": "403fbf4a-2190-423b-95e9-e99b36ca0232",
   "metadata": {},
   "outputs": [],
   "source": []
  }
 ],
 "metadata": {
  "kernelspec": {
   "display_name": "Python 3 (ipykernel)",
   "language": "python",
   "name": "python3"
  },
  "language_info": {
   "codemirror_mode": {
    "name": "ipython",
    "version": 3
   },
   "file_extension": ".py",
   "mimetype": "text/x-python",
   "name": "python",
   "nbconvert_exporter": "python",
   "pygments_lexer": "ipython3",
   "version": "3.13.5"
  }
 },
 "nbformat": 4,
 "nbformat_minor": 5
}
