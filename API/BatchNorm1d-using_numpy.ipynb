{
 "cells": [
  {
   "cell_type": "code",
   "execution_count": 1,
   "id": "ccee9ec9-2453-48b2-95ef-121815641c86",
   "metadata": {},
   "outputs": [],
   "source": [
    "import numpy as np\n",
    "\n",
    "from __future__ import annotations"
   ]
  },
  {
   "cell_type": "code",
   "execution_count": 37,
   "id": "2ec9224f-bd42-4da9-bdff-a4ba840315d4",
   "metadata": {},
   "outputs": [],
   "source": [
    "class BatchNorm1d:\n",
    "    def __init__(self, dim, eps=1e-5, momentum=0.01):\n",
    "        self.dim = dim\n",
    "        self.eps = eps\n",
    "        self.momentum = momentum\n",
    "        self.training = True\n",
    "\n",
    "        # scale and shift\n",
    "        self.alpha = np.ones(dim)\n",
    "        self.beta = np.zeros(dim)\n",
    "\n",
    "        # buffers\n",
    "        self.running_m = np.zeros(dim)\n",
    "        self.running_v = np.ones(dim)\n",
    "\n",
    "    def __call__(self, X):\n",
    "        if self.training:\n",
    "            xmean = X.mean(0, keepdims=True)\n",
    "            xvar = X.var(0, keepdims=True)\n",
    "\n",
    "        else:\n",
    "            xmean = self.running_m\n",
    "            xvar = self.running_v\n",
    "\n",
    "        xhat =  (X - xmean) / np.sqrt(xvar * self.eps) \n",
    "        self.out = self.alpha * xhat + self.beta\n",
    "\n",
    "        if self.training:\n",
    "            self.running_m = (1 - self.momentum) * self.running_m + xmean * self.momentum\n",
    "            self.running_v = (1 - self.momentum) * self.running_v + xmean * self.momentum\n",
    "    \n",
    "        return self.out\n",
    "\n",
    "    def parameters(self):\n",
    "        return [self.alpha, self.beta]"
   ]
  },
  {
   "cell_type": "code",
   "execution_count": 54,
   "id": "535effb9-d486-4313-8683-4138676908ba",
   "metadata": {},
   "outputs": [],
   "source": [
    "dim = 10\n",
    "X = np.random.rand(10, dim)"
   ]
  },
  {
   "cell_type": "code",
   "execution_count": 55,
   "id": "efbdddac-c78a-4f3d-826a-201cdaa3f02d",
   "metadata": {},
   "outputs": [],
   "source": [
    "batchnorm = BatchNorm1d(dim)"
   ]
  },
  {
   "cell_type": "code",
   "execution_count": 58,
   "id": "0a085ac7-ecce-443e-8fd9-12dc7c796066",
   "metadata": {},
   "outputs": [
    {
     "name": "stdout",
     "output_type": "stream",
     "text": [
      "(1, 10)\n"
     ]
    },
    {
     "data": {
      "text/plain": [
       "array([[ -73.94154373, -477.09240825, -633.04240822, -562.78663677,\n",
       "        -168.91455215,  314.90142252, -220.25589394,  449.79367929,\n",
       "         216.07911272, -312.06563321],\n",
       "       [ 292.33120788,  -80.80236981,  150.76935706,  534.16450269,\n",
       "         315.72279614, -517.36361463, -270.83692471,  -94.70184021,\n",
       "         416.74598972,  133.28015306],\n",
       "       [  90.80324785,  331.24602773,   29.66031185,  181.87270948,\n",
       "        -291.9782515 ,  211.30144452, -145.80574459, -291.59967123,\n",
       "         354.50403873,  510.36388209],\n",
       "       [-448.89481368, -352.9054246 ,  -43.66418039, -261.65853319,\n",
       "         197.48382546, -119.82594463,  457.62234955,  221.61740045,\n",
       "          21.69036161,   86.59271904],\n",
       "       [  67.75167971,  -58.00247915, -242.13617595, -143.62208535,\n",
       "        -203.23515387, -140.47823494, -478.79486499, -457.02715749,\n",
       "        -148.65778578, -318.55600237],\n",
       "       [-490.88058651,  490.48234639,  -95.53701694, -207.56404908,\n",
       "         356.81486901,  107.12960518,  276.72627218,   99.37332282,\n",
       "          -5.76897415,  139.86660999],\n",
       "       [ 548.96328181,  262.11328264,  629.93217803,  -26.96117168,\n",
       "        -440.79091179,  321.59173288, -375.76771168, -499.69123838,\n",
       "         298.35288511,  -71.40392777],\n",
       "       [-276.09644249, -137.71366226, -114.1736711 ,   -4.23625795,\n",
       "         264.3139581 ,  131.86094599,  188.61263388,    8.02792164,\n",
       "        -127.27928795,  498.72410022],\n",
       "       [ 275.63382553,  327.3475692 ,  309.94215059,  481.51381148,\n",
       "         381.72788861, -587.20704501,  243.85773394,  398.08397834,\n",
       "        -521.38921455, -432.65974947],\n",
       "       [  14.33014363, -304.67288188,    8.24945506,    9.27771037,\n",
       "        -411.14446802,  278.08968813,  324.64215035,  166.12360476,\n",
       "        -504.27712545, -234.14215158]])"
      ]
     },
     "execution_count": 58,
     "metadata": {},
     "output_type": "execute_result"
    }
   ],
   "source": [
    "batchnorm(X) # backprop trains alpha and beta to scale and shift the distribution."
   ]
  },
  {
   "cell_type": "code",
   "execution_count": 60,
   "id": "60493cf8-05aa-4377-a2c8-de677437319d",
   "metadata": {},
   "outputs": [
    {
     "data": {
      "text/plain": [
       "[array([1., 1., 1., 1., 1., 1., 1., 1., 1., 1.]),\n",
       " array([0., 0., 0., 0., 0., 0., 0., 0., 0., 0.])]"
      ]
     },
     "execution_count": 60,
     "metadata": {},
     "output_type": "execute_result"
    }
   ],
   "source": [
    "batchnorm.parameters() # currently 1's and 0's and no grad is used."
   ]
  }
 ],
 "metadata": {
  "kernelspec": {
   "display_name": "Python 3 (ipykernel)",
   "language": "python",
   "name": "python3"
  },
  "language_info": {
   "codemirror_mode": {
    "name": "ipython",
    "version": 3
   },
   "file_extension": ".py",
   "mimetype": "text/x-python",
   "name": "python",
   "nbconvert_exporter": "python",
   "pygments_lexer": "ipython3",
   "version": "3.13.5"
  }
 },
 "nbformat": 4,
 "nbformat_minor": 5
}
