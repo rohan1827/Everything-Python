{
 "cells": [
  {
   "cell_type": "code",
   "execution_count": 1,
   "metadata": {
    "_cell_guid": "b1076dfc-b9ad-4769-8c92-a6c4dae69d19",
    "_uuid": "8f2839f25d086af736a60e9eeb907d3b93b6e0e5"
   },
   "outputs": [],
   "source": [
    "import numpy as np\n",
    "import random\n",
    "from dataclasses import dataclass\n",
    "from __future__ import annotations\n",
    "from typing import Optional\n",
    "from abc import ABC, abstractmethod\n",
    "import time"
   ]
  },
  {
   "cell_type": "code",
   "execution_count": 2,
   "metadata": {},
   "outputs": [],
   "source": [
    "class Strategy(ABC):\n",
    "    '''Abstract class for player class to implement'''\n",
    "    @abstractmethod\n",
    "    def make_move(self, valid: List):\n",
    "        ..."
   ]
  },
  {
   "cell_type": "code",
   "execution_count": 3,
   "metadata": {},
   "outputs": [],
   "source": [
    "@dataclass\n",
    "class Player(Strategy):\n",
    "    '''Player class that is responsible to check valid moves and make a valid move selection'''\n",
    "    symbol: str\n",
    "    name: str\n",
    "    \n",
    "    def make_move(self, valid: List):\n",
    "        move = random.choice(valid)\n",
    "        return move "
   ]
  },
  {
   "cell_type": "code",
   "execution_count": 20,
   "metadata": {},
   "outputs": [],
   "source": [
    "class Board:\n",
    "    '''Board class responsible for rending, checking winning conditions, checking draw conditions, and running the game\n",
    "    loop '''\n",
    "    def __init__(self, player_1: Player, player_2: Player):\n",
    "        self.player_1 = player_1\n",
    "        self.player_2 = player_2\n",
    "        \n",
    "        self.cells = [' '] * 9\n",
    "\n",
    "    def __repr__(self):\n",
    "        c = self.cells\n",
    "        return f'+-+- {c[0]} | {c[1]} | {c[2]} +-+-\\n+-+- {c[3]} | {c[4]} | {c[5]} +-+-\\n+-+- {c[6]} | {c[7]} | {c[8]} +-+-\\n'\n",
    "    \n",
    "    # ---- helper functions ---- \n",
    "    @staticmethod\n",
    "    def check_diag(x, sym):\n",
    "        return (x[0] == x[4] == x[8] == sym) or (x[2] == x[4] == x[6] == sym)\n",
    "    \n",
    "    @staticmethod\n",
    "    def check_ver(x, start_idx, sym):\n",
    "        return x[start_idx] == x[start_idx + 3] == x[start_idx + 6] == sym\n",
    "    \n",
    "    @staticmethod\n",
    "    def check_hor(x, start_idx, sym):\n",
    "        return x[start_idx] == x[start_idx + 1] == x[start_idx + 2] == sym\n",
    "\n",
    "    # ---- refree actions ---- \n",
    "    def valid_moves(self):\n",
    "        valid = []\n",
    "        for i in range(len(self.cells)):\n",
    "            if self.cells[i] == ' ':\n",
    "                valid.append(i) \n",
    "        return valid\n",
    "\n",
    "    def fill_pos(self, pos: int, sym: str):\n",
    "        if not 0 <= pos <+ 9: raise ValueError('POS out of Range')\n",
    "        if self.cells[pos] != ' ': raise ValueError('Cell occupied') \n",
    "        self.cells[pos] = sym\n",
    "\n",
    "    def check_winner(self, sym_1, sym_2):\n",
    "        c = self.cells\n",
    "        for sym in (sym_1, sym_2):\n",
    "            # verticals\n",
    "            for i in range(3):\n",
    "                if self.check_ver(c, i, sym):\n",
    "                    return sym\n",
    "            # horizontals\n",
    "            for i in range(0, 9, 3):\n",
    "                if self.check_hor(c, i, sym):\n",
    "                    return sym\n",
    "            # diagonals\n",
    "            if self.check_diag(c, sym):\n",
    "                return sym\n",
    "        return None\n",
    "\n",
    "\n",
    "    # --------- game loop ---------     \n",
    "    def game_on(self):\n",
    "        b = Board(self.player_1, self.player_2)\n",
    "        print('board on')\n",
    "        print(b)\n",
    "        time.sleep(1.5)\n",
    "        sym_1, sym_2 = self.player_1.symbol, self.player_2.symbol\n",
    "\n",
    "        while True:\n",
    "            # player 1 makes a move\n",
    "            valid = b.valid_moves()\n",
    "            if not valid:\n",
    "                print('Draw!!')\n",
    "                break\n",
    "                \n",
    "            move_1 = self.player_1.make_move(valid=valid)\n",
    "            print(f'{self.player_1.name} chooses {move_1}')\n",
    "            b.fill_pos(pos=move_1, sym=sym_1)\n",
    "            print(b)\n",
    "            time.sleep(1.5)\n",
    "            \n",
    "            winner = b.check_winner(sym_1, sym_2)\n",
    "            if winner is not None:\n",
    "                if winner == sym_1:\n",
    "                    print(f'YAY! {self.player_1.name} wins')\n",
    "                if winner == sym_2:\n",
    "                    print(f'YAY! {self.player_2.name} wins')\n",
    "                break\n",
    "                \n",
    "            # player 2 makes a move\n",
    "            valid = b.valid_moves()\n",
    "            if not valid:\n",
    "                print('Draw!!')\n",
    "                break\n",
    "            \n",
    "            move_2 = self.player_2.make_move(valid=valid)\n",
    "            print(f'{self.player_2.name} chooses {move_2}')\n",
    "            b.fill_pos(pos=move_2, sym=sym_2)\n",
    "            print(b)\n",
    "            time.sleep(1.5)\n",
    "            \n",
    "            winner = b.check_winner(sym_1, sym_2)\n",
    "            if winner is not None:\n",
    "                if winner == sym_1:\n",
    "                    print(f'YAY! {self.player_1.name} wins')\n",
    "                if winner == sym_2:\n",
    "                    print(f'YAY! {self.player_2.name} wins')\n",
    "                break"
   ]
  },
  {
   "cell_type": "code",
   "execution_count": 15,
   "metadata": {},
   "outputs": [],
   "source": [
    "john = Player('X', 'John')\n",
    "stefan = Player('O', 'Stefan')\n",
    "board = Board(john, stefan)"
   ]
  },
  {
   "cell_type": "code",
   "execution_count": 16,
   "metadata": {},
   "outputs": [
    {
     "name": "stdout",
     "output_type": "stream",
     "text": [
      "board on\n",
      "+-+-   |   |   +-+-\n",
      "+-+-   |   |   +-+-\n",
      "+-+-   |   |   +-+-\n",
      "\n",
      "John chooses 7\n",
      "+-+-   |   |   +-+-\n",
      "+-+-   |   |   +-+-\n",
      "+-+-   | X |   +-+-\n",
      "\n",
      "Stefan chooses 6\n",
      "+-+-   |   |   +-+-\n",
      "+-+-   |   |   +-+-\n",
      "+-+- O | X |   +-+-\n",
      "\n",
      "John chooses 2\n",
      "+-+-   |   | X +-+-\n",
      "+-+-   |   |   +-+-\n",
      "+-+- O | X |   +-+-\n",
      "\n",
      "Stefan chooses 0\n",
      "+-+- O |   | X +-+-\n",
      "+-+-   |   |   +-+-\n",
      "+-+- O | X |   +-+-\n",
      "\n",
      "John chooses 5\n",
      "+-+- O |   | X +-+-\n",
      "+-+-   |   | X +-+-\n",
      "+-+- O | X |   +-+-\n",
      "\n",
      "Stefan chooses 8\n",
      "+-+- O |   | X +-+-\n",
      "+-+-   |   | X +-+-\n",
      "+-+- O | X | O +-+-\n",
      "\n",
      "John chooses 3\n",
      "+-+- O |   | X +-+-\n",
      "+-+- X |   | X +-+-\n",
      "+-+- O | X | O +-+-\n",
      "\n",
      "Stefan chooses 1\n",
      "+-+- O | O | X +-+-\n",
      "+-+- X |   | X +-+-\n",
      "+-+- O | X | O +-+-\n",
      "\n",
      "John chooses 4\n",
      "+-+- O | O | X +-+-\n",
      "+-+- X | X | X +-+-\n",
      "+-+- O | X | O +-+-\n",
      "\n",
      "YAY! John wins\n"
     ]
    }
   ],
   "source": [
    "board.game_on()"
   ]
  },
  {
   "cell_type": "code",
   "execution_count": 22,
   "metadata": {},
   "outputs": [],
   "source": [
    "# Implementing moves to take user input\n",
    "@dataclass\n",
    "class Custom_Player(Strategy):\n",
    "    name: str\n",
    "    symbol: str\n",
    "\n",
    "    def make_move(self, valid: List):\n",
    "        '''The function takes a user input (in range 0-9) and checks if it is a valid move, if so returns to the game board'''\n",
    "        while True:\n",
    "            move = int(input(f'{self.name} Choose a move betweek 0-8'))\n",
    "            # check if its a valid move\n",
    "            if move not in valid: \n",
    "                print('[ERROR]: Select a valid move!') \n",
    "            else:\n",
    "                break\n",
    "        return move\n",
    "    "
   ]
  },
  {
   "cell_type": "code",
   "execution_count": 21,
   "metadata": {},
   "outputs": [
    {
     "name": "stdout",
     "output_type": "stream",
     "text": [
      "board on\n",
      "+-+-   |   |   +-+-\n",
      "+-+-   |   |   +-+-\n",
      "+-+-   |   |   +-+-\n",
      "\n"
     ]
    },
    {
     "name": "stdin",
     "output_type": "stream",
     "text": [
      "Choose a move betweek 0-9 2\n"
     ]
    },
    {
     "name": "stdout",
     "output_type": "stream",
     "text": [
      "John chooses 2\n",
      "+-+-   |   | X +-+-\n",
      "+-+-   |   |   +-+-\n",
      "+-+-   |   |   +-+-\n",
      "\n"
     ]
    },
    {
     "name": "stdin",
     "output_type": "stream",
     "text": [
      "Choose a move betweek 0-9 3\n"
     ]
    },
    {
     "name": "stdout",
     "output_type": "stream",
     "text": [
      "Stefan chooses 3\n",
      "+-+-   |   | X +-+-\n",
      "+-+- O |   |   +-+-\n",
      "+-+-   |   |   +-+-\n",
      "\n"
     ]
    },
    {
     "name": "stdin",
     "output_type": "stream",
     "text": [
      "Choose a move betweek 0-9 5\n"
     ]
    },
    {
     "name": "stdout",
     "output_type": "stream",
     "text": [
      "John chooses 5\n",
      "+-+-   |   | X +-+-\n",
      "+-+- O |   | X +-+-\n",
      "+-+-   |   |   +-+-\n",
      "\n"
     ]
    },
    {
     "name": "stdin",
     "output_type": "stream",
     "text": [
      "Choose a move betweek 0-9 4\n"
     ]
    },
    {
     "name": "stdout",
     "output_type": "stream",
     "text": [
      "Stefan chooses 4\n",
      "+-+-   |   | X +-+-\n",
      "+-+- O | O | X +-+-\n",
      "+-+-   |   |   +-+-\n",
      "\n"
     ]
    },
    {
     "name": "stdin",
     "output_type": "stream",
     "text": [
      "Choose a move betweek 0-9 8\n"
     ]
    },
    {
     "name": "stdout",
     "output_type": "stream",
     "text": [
      "John chooses 8\n",
      "+-+-   |   | X +-+-\n",
      "+-+- O | O | X +-+-\n",
      "+-+-   |   | X +-+-\n",
      "\n",
      "YAY! John wins\n"
     ]
    }
   ],
   "source": [
    "# trying the loop again\n",
    "j = Custom_Player('John', 'X')\n",
    "s = Custom_Player('Stefan', 'O')\n",
    "game = Board(j, s)\n",
    "game.game_on()"
   ]
  },
  {
   "cell_type": "code",
   "execution_count": 23,
   "metadata": {},
   "outputs": [],
   "source": [
    "# you can extend the super class and reimplement its abstract method too.. ggs <3."
   ]
  },
  {
   "cell_type": "code",
   "execution_count": null,
   "metadata": {},
   "outputs": [],
   "source": []
  }
 ],
 "metadata": {
  "kaggle": {
   "accelerator": "none",
   "dataSources": [],
   "dockerImageVersionId": 31089,
   "isGpuEnabled": false,
   "isInternetEnabled": true,
   "language": "python",
   "sourceType": "notebook"
  },
  "kernelspec": {
   "display_name": "Python 3 (ipykernel)",
   "language": "python",
   "name": "python3"
  },
  "language_info": {
   "codemirror_mode": {
    "name": "ipython",
    "version": 3
   },
   "file_extension": ".py",
   "mimetype": "text/x-python",
   "name": "python",
   "nbconvert_exporter": "python",
   "pygments_lexer": "ipython3",
   "version": "3.13.5"
  }
 },
 "nbformat": 4,
 "nbformat_minor": 4
}
