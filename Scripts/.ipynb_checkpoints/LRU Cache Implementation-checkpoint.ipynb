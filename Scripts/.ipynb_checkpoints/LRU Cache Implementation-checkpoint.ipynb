{
 "cells": [
  {
   "cell_type": "code",
   "execution_count": 1,
   "id": "f893db42-f0f1-45ff-a6bd-84bec75cafbc",
   "metadata": {},
   "outputs": [],
   "source": [
    "# implementation of LRU (least recently used cache) using linked lists approach."
   ]
  },
  {
   "cell_type": "code",
   "execution_count": 2,
   "id": "3d4ec175-32d8-450b-b52e-337171794352",
   "metadata": {},
   "outputs": [],
   "source": [
    "class Node:\n",
    "    def __init__(self, key, value):\n",
    "        self.key = key \n",
    "        self.value = value\n",
    "        self.prev = None\n",
    "        self.next = None\n",
    "\n",
    "    def __repr__(self):\n",
    "        return f\"{self.key}:{self.value}\"\n",
    "        "
   ]
  },
  {
   "cell_type": "code",
   "execution_count": 16,
   "id": "177a62d6-7b0e-4472-95d9-d51703f2cc5c",
   "metadata": {},
   "outputs": [],
   "source": [
    "class DoublyLinkedList:\n",
    "    def __init__(self):\n",
    "        self.head = Node(0, 'h')\n",
    "        self.tail = Node(0, 't')\n",
    "        self.head.next = self.tail\n",
    "        self.tail.prev = self.head\n",
    "\n",
    "    def __repr__(self):\n",
    "        nodes = []\n",
    "        curr = self.head.next\n",
    "        while curr != self.tail:\n",
    "            nodes.append(f'[{curr.key}:{curr.value}]')\n",
    "            curr = curr.next\n",
    "        return '<->'.join(nodes)\n",
    "\n",
    "    def insert(self, key, value):\n",
    "        node = Node(key, value)\n",
    "        if self.head.next == self.tail:\n",
    "            # insert after head\n",
    "            self.head.next = node\n",
    "            node.prev = self.head\n",
    "            node.next = self.tail\n",
    "            self.tail.prev = node\n",
    "        \n",
    "        if self.head.next != self.tail:\n",
    "            # if there is a node that exists after head\n",
    "            other = self.head.next\n",
    "            other.next = node\n",
    "            node.prev = other\n",
    "            node.next = self.tail\n",
    "            self.tail.prev = node\n",
    "        \n",
    "            "
   ]
  },
  {
   "cell_type": "code",
   "execution_count": 18,
   "id": "fa8ede4f-d741-4465-b07d-72babefb588f",
   "metadata": {},
   "outputs": [
    {
     "data": {
      "text/plain": [
       "[1:A]<->[3:C]"
      ]
     },
     "execution_count": 18,
     "metadata": {},
     "output_type": "execute_result"
    }
   ],
   "source": [
    "x = DoublyLinkedList()\n",
    "x.insert(1, 'A')\n",
    "x.insert(2, 'B')\n",
    "x.insert(3, 'C')\n",
    "x"
   ]
  },
  {
   "cell_type": "code",
   "execution_count": null,
   "id": "bec9acdb-e7b4-448b-a354-f2053238cff2",
   "metadata": {},
   "outputs": [],
   "source": []
  }
 ],
 "metadata": {
  "kernelspec": {
   "display_name": "Python 3 (ipykernel)",
   "language": "python",
   "name": "python3"
  },
  "language_info": {
   "codemirror_mode": {
    "name": "ipython",
    "version": 3
   },
   "file_extension": ".py",
   "mimetype": "text/x-python",
   "name": "python",
   "nbconvert_exporter": "python",
   "pygments_lexer": "ipython3",
   "version": "3.13.5"
  }
 },
 "nbformat": 4,
 "nbformat_minor": 5
}
