{
 "cells": [
  {
   "cell_type": "code",
   "execution_count": 24,
   "metadata": {
    "_cell_guid": "b1076dfc-b9ad-4769-8c92-a6c4dae69d19",
    "_uuid": "8f2839f25d086af736a60e9eeb907d3b93b6e0e5",
    "execution": {
     "iopub.execute_input": "2025-08-12T20:37:43.648218Z",
     "iopub.status.busy": "2025-08-12T20:37:43.647183Z",
     "iopub.status.idle": "2025-08-12T20:37:43.665737Z",
     "shell.execute_reply": "2025-08-12T20:37:43.664556Z",
     "shell.execute_reply.started": "2025-08-12T20:37:43.648178Z"
    }
   },
   "outputs": [],
   "source": [
    "from time import perf_counter\n",
    "from __future__ import annotations\n",
    "\n",
    "class Stopwatch:\n",
    "    '''This is the implementation of a stopwatch, can use it to perform basic actions as start, stop, reset. Has a decorator\n",
    "    implementation to use it on custom functions and has a context manager implementation too.'''\n",
    "    def __init__(self):\n",
    "      self._t_start = None\n",
    "      self._t_stop = None\n",
    "      self._running = False\n",
    "      self._elapsed = 0.0\n",
    "      self._lap_counter = 0\n",
    "      self.laps = {}  \n",
    "    \n",
    "    # ---------- basic methods -----------\n",
    "    def __repr__(self):\n",
    "        return f\"Stopwatch(elapsed={(self.ms):.6f}ms, running={self._running})\"\n",
    "\n",
    "    def start(self):\n",
    "        '''starts the stop watch, changes the internal state to running'''\n",
    "        if not self._running:\n",
    "            self._t_start = perf_counter()\n",
    "            self._running = True\n",
    "\n",
    "    def stop(self):\n",
    "        '''stops the stop watch (checks if a start was called or not, else raises an error), \n",
    "           re-calibrates the internal state'''\n",
    "        if not self._running: \n",
    "            raise RuntimeError('Cannot stop a watch without starting it first! DUH!')\n",
    "        self._t_stop = perf_counter()\n",
    "        self._elapsed += self._t_stop - self._t_start\n",
    "        self._t_start = None\n",
    "        self._running = False\n",
    "\n",
    "    def reset(self):\n",
    "        '''resets the class attributes to initial values'''\n",
    "        self._t_start, self._t_stop, self._elapsed = None, None, None\n",
    "        self._running = False\n",
    "\n",
    "    def lap(self):\n",
    "        '''store laps for time tracking efficiently'''\n",
    "        if not self._running:\n",
    "            raise RuntimeError('Cannot lap without starting the clock first! DUH!')\n",
    "        time = perf_counter() - self._t_start\n",
    "        self.laps[self._lap_counter] = time\n",
    "        self._lap_counter += 1\n",
    "\n",
    "    # ---------- dynamic class attributes -----------\n",
    "    @property\n",
    "    def seconds(self):\n",
    "        '''class attribute that stores time elapsed in seconds'''\n",
    "        if self._running:\n",
    "            return self._elapsed + (perf_counter() - self._t_start)\n",
    "        return self._elapsed \n",
    "\n",
    "    @property\n",
    "    def ms(self):\n",
    "        '''class attribute that stores time elapsed in milliseconds'''\n",
    "        return 1000 * self.seconds\n",
    "\n",
    "    # ---------- Decorator -----------\n",
    "    def decorator(func):\n",
    "        def wrapper(*args, **kwargs):\n",
    "            \n",
    "            sw = Stopwatch()\n",
    "            sw.start()\n",
    "            try:\n",
    "                return func(*args, **kwargs)\n",
    "            finally:\n",
    "                sw.stop()\n",
    "                print(f'Total execution time of {func.__name__}: {sw.seconds}(s)')\n",
    "        return wrapper\n",
    "\n",
    "    # ---------- Context Manager implementation -----------\n",
    "    def __enter__(self):\n",
    "        self.start()\n",
    "        return self\n",
    "\n",
    "    def __exit__(self, exc_type, exc, tb):\n",
    "        if self._running:\n",
    "            self.stop()\n",
    "        "
   ]
  },
  {
   "cell_type": "code",
   "execution_count": 16,
   "metadata": {
    "execution": {
     "iopub.execute_input": "2025-08-12T20:32:47.857305Z",
     "iopub.status.busy": "2025-08-12T20:32:47.857043Z",
     "iopub.status.idle": "2025-08-12T20:32:47.886395Z",
     "shell.execute_reply": "2025-08-12T20:32:47.885266Z",
     "shell.execute_reply.started": "2025-08-12T20:32:47.857286Z"
    }
   },
   "outputs": [
    {
     "name": "stdout",
     "output_type": "stream",
     "text": [
      "21.87947200002327 0.02187947200002327\n"
     ]
    },
    {
     "data": {
      "text/plain": [
       "Stopwatch(elapsed=21.879472ms, running=False)"
      ]
     },
     "execution_count": 16,
     "metadata": {},
     "output_type": "execute_result"
    }
   ],
   "source": [
    "watch = Stopwatch()\n",
    "watch.start()\n",
    "x = []\n",
    "for i in range(100000):\n",
    "    x.append(i)\n",
    "\n",
    "watch.stop()\n",
    "watch.start()\n",
    "for i in range(100000):\n",
    "    x.append(i)\n",
    "watch.stop()\n",
    "print(watch.ms, watch.seconds)\n",
    "watch"
   ]
  },
  {
   "cell_type": "code",
   "execution_count": 17,
   "metadata": {
    "execution": {
     "iopub.execute_input": "2025-08-12T20:32:48.054723Z",
     "iopub.status.busy": "2025-08-12T20:32:48.053907Z",
     "iopub.status.idle": "2025-08-12T20:32:48.058740Z",
     "shell.execute_reply": "2025-08-12T20:32:48.057756Z",
     "shell.execute_reply.started": "2025-08-12T20:32:48.054686Z"
    }
   },
   "outputs": [],
   "source": [
    "watch.reset()"
   ]
  },
  {
   "cell_type": "code",
   "execution_count": 18,
   "metadata": {
    "execution": {
     "iopub.execute_input": "2025-08-12T20:32:48.226379Z",
     "iopub.status.busy": "2025-08-12T20:32:48.226047Z",
     "iopub.status.idle": "2025-08-12T20:32:48.231052Z",
     "shell.execute_reply": "2025-08-12T20:32:48.230004Z",
     "shell.execute_reply.started": "2025-08-12T20:32:48.226354Z"
    }
   },
   "outputs": [],
   "source": [
    "watch.reset()"
   ]
  },
  {
   "cell_type": "code",
   "execution_count": 19,
   "metadata": {
    "execution": {
     "iopub.execute_input": "2025-08-12T20:32:48.392390Z",
     "iopub.status.busy": "2025-08-12T20:32:48.392118Z",
     "iopub.status.idle": "2025-08-12T20:32:48.397899Z",
     "shell.execute_reply": "2025-08-12T20:32:48.396874Z",
     "shell.execute_reply.started": "2025-08-12T20:32:48.392371Z"
    }
   },
   "outputs": [
    {
     "name": "stdout",
     "output_type": "stream",
     "text": [
      "Total execution time of count_100: 8.577000016884995e-06(s)\n"
     ]
    }
   ],
   "source": [
    "@Stopwatch.decorator\n",
    "def count_100():\n",
    "    x = list()\n",
    "    for i in range(100):\n",
    "        x.append(i)\n",
    "\n",
    "count_100()"
   ]
  },
  {
   "cell_type": "code",
   "execution_count": 20,
   "metadata": {
    "execution": {
     "iopub.execute_input": "2025-08-12T20:32:48.554477Z",
     "iopub.status.busy": "2025-08-12T20:32:48.554151Z",
     "iopub.status.idle": "2025-08-12T20:32:54.561737Z",
     "shell.execute_reply": "2025-08-12T20:32:54.560960Z",
     "shell.execute_reply.started": "2025-08-12T20:32:48.554420Z"
    }
   },
   "outputs": [
    {
     "name": "stdout",
     "output_type": "stream",
     "text": [
      "hello rohan\n",
      "first lap\n",
      "second_lap\n"
     ]
    },
    {
     "data": {
      "text/plain": [
       "Stopwatch(elapsed=6001.510129ms, running=False)"
      ]
     },
     "execution_count": 20,
     "metadata": {},
     "output_type": "execute_result"
    }
   ],
   "source": [
    "# testing laps\n",
    "import time\n",
    "\n",
    "sw = Stopwatch()\n",
    "sw.start()\n",
    "print('hello rohan')\n",
    "time.sleep(2)\n",
    "print('first lap')\n",
    "sw.lap()\n",
    "time.sleep(2)\n",
    "print('second_lap')\n",
    "sw.lap()\n",
    "time.sleep(2)\n",
    "sw.stop()\n",
    "sw"
   ]
  },
  {
   "cell_type": "code",
   "execution_count": 21,
   "metadata": {
    "execution": {
     "iopub.execute_input": "2025-08-12T20:32:54.563415Z",
     "iopub.status.busy": "2025-08-12T20:32:54.563102Z",
     "iopub.status.idle": "2025-08-12T20:32:54.569264Z",
     "shell.execute_reply": "2025-08-12T20:32:54.568249Z",
     "shell.execute_reply.started": "2025-08-12T20:32:54.563387Z"
    }
   },
   "outputs": [
    {
     "data": {
      "text/plain": [
       "{0: 2.000647889999982, 1: 4.001141685999983}"
      ]
     },
     "execution_count": 21,
     "metadata": {},
     "output_type": "execute_result"
    }
   ],
   "source": [
    "# testing the laps feature\n",
    "sw.laps"
   ]
  },
  {
   "cell_type": "code",
   "execution_count": 22,
   "metadata": {
    "execution": {
     "iopub.execute_input": "2025-08-12T20:32:54.570571Z",
     "iopub.status.busy": "2025-08-12T20:32:54.570229Z",
     "iopub.status.idle": "2025-08-12T20:32:54.587841Z",
     "shell.execute_reply": "2025-08-12T20:32:54.586975Z",
     "shell.execute_reply.started": "2025-08-12T20:32:54.570550Z"
    }
   },
   "outputs": [
    {
     "name": "stdout",
     "output_type": "stream",
     "text": [
      "Total execution time of count_100: 1.0078000059365877e-05(s)\n",
      "0.00023122900006455893\n"
     ]
    }
   ],
   "source": [
    "# trying the context manager\n",
    "with Stopwatch() as sw:\n",
    "    count_100()\n",
    "\n",
    "print(sw.seconds)"
   ]
  },
  {
   "cell_type": "code",
   "execution_count": null,
   "metadata": {},
   "outputs": [],
   "source": []
  }
 ],
 "metadata": {
  "kaggle": {
   "accelerator": "none",
   "dataSources": [],
   "dockerImageVersionId": 31089,
   "isGpuEnabled": false,
   "isInternetEnabled": true,
   "language": "python",
   "sourceType": "notebook"
  },
  "kernelspec": {
   "display_name": "Python 3 (ipykernel)",
   "language": "python",
   "name": "python3"
  },
  "language_info": {
   "codemirror_mode": {
    "name": "ipython",
    "version": 3
   },
   "file_extension": ".py",
   "mimetype": "text/x-python",
   "name": "python",
   "nbconvert_exporter": "python",
   "pygments_lexer": "ipython3",
   "version": "3.13.5"
  }
 },
 "nbformat": 4,
 "nbformat_minor": 4
}
